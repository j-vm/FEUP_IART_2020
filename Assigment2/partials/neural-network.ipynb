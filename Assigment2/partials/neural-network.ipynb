{
 "cells": [
  {
   "cell_type": "markdown",
   "metadata": {},
   "source": [
    "# Assignment 2 - Machine Learning\n",
    "## FEUP MIEIC - Inteligência Artificial *(EIC0029/IART)*\n",
    "\n"
   ]
  },
  {
   "cell_type": "markdown",
   "metadata": {},
   "source": [
    "## Neural Network partial notebook\n",
    "\n",
    "This Jupyter Notebook implpementes and documents a Neural Network Machine Learning model. <br><br>\n",
    "*The content of this notebook will be also included in the complete notebook named **IART-MachineLearning.ipynb** that can be found in the root directory of this repository*\n",
    "\n",
    "***"
   ]
  },
  {
   "cell_type": "code",
   "execution_count": 12,
   "metadata": {},
   "outputs": [
    {
     "output_type": "stream",
     "name": "stdout",
     "text": "10 %20 %30 %40 %50 %60 %70 %80 %90 %100 %"
    },
    {
     "output_type": "execute_result",
     "data": {
      "text/plain": "         id  league_id                 date  home_team_api_id  \\\n0      8227       7809  2010-01-30 00:00:00              8177   \n1      8152       7809  2009-11-22 00:00:00              9790   \n2      8109       7809  2008-10-26 00:00:00             10269   \n3      8088       7809  2008-10-04 00:00:00              9823   \n4      8010       7809  2008-08-30 00:00:00             10189   \n...     ...        ...                  ...               ...   \n6537  20738      19694  2012-08-19 00:00:00              9938   \n6538  20577      19694  2011-08-20 00:00:00              9938   \n6539  17958      17642  2010-02-07 00:00:00              7841   \n6540  13834      13274  2009-08-23 00:00:00              8611   \n6541  13857      13274  2009-09-13 00:00:00              8614   \n\n      away_team_api_id  home_team_goal  away_team_goal  overall_rating_home  \\\n0                 9911               0               0                746.0   \n1                 9911               0               1                772.0   \n2                 9911               2               0                780.0   \n3                 9911               3               3                688.0   \n4                 9911               1               0                733.0   \n...                ...             ...             ...                  ...   \n6537              8284               3               0                772.0   \n6538              8457               0               1                755.0   \n6539              6421               2               0                752.0   \n6540             10219               2               1                682.0   \n6541             10219               1               0                737.0   \n\n      overall_rating_away  overall_rating_difference  \\\n0                   783.0                      -37.0   \n1                   790.0                      -18.0   \n2                   719.0                       61.0   \n3                   717.0                      -29.0   \n4                   770.0                      -37.0   \n...                   ...                        ...   \n6537                780.0                       -8.0   \n6538                720.0                       35.0   \n6539                779.0                      -27.0   \n6540                755.0                      -73.0   \n6541                736.0                        1.0   \n\n      mean_overall_rating_home  mean_overall_rating_away  Home_last5  \\\n0                    67.818182                 71.181818           1   \n1                    70.181818                 71.818182           8   \n2                    70.909091                 71.900000           9   \n3                    68.800000                 71.700000           8   \n4                    66.636364                 70.000000           8   \n...                        ...                       ...         ...   \n6537                 70.181818                 70.909091          -1   \n6538                 68.636364                 65.454545          -1   \n6539                 68.363636                 70.818182          -1   \n6540                 68.200000                 68.636364          -1   \n6541                 67.000000                 66.909091          -1   \n\n      Away_last5  mean_bets_home  mean_bets_draw  goal_diff Game Result  \n0              1        1.765556        3.322222          0        Draw  \n1             11        1.898889        3.250000         -1      Defeat  \n2              8        2.462222        3.233333          2         Win  \n3              3        1.438889        3.805556          0        Draw  \n4             -1        4.494444        3.422222          1         Win  \n...          ...             ...             ...        ...         ...  \n6537          -1        2.044444        3.144444          3         Win  \n6538          -1        2.284444        3.097778         -1      Defeat  \n6539          -1        2.282222        3.066667          2         Win  \n6540          -1        2.515556        3.100000          1         Win  \n6541          -1        2.518889        3.125556          1         Win  \n\n[6542 rows x 18 columns]",
      "text/html": "<div>\n<style scoped>\n    .dataframe tbody tr th:only-of-type {\n        vertical-align: middle;\n    }\n\n    .dataframe tbody tr th {\n        vertical-align: top;\n    }\n\n    .dataframe thead th {\n        text-align: right;\n    }\n</style>\n<table border=\"1\" class=\"dataframe\">\n  <thead>\n    <tr style=\"text-align: right;\">\n      <th></th>\n      <th>id</th>\n      <th>league_id</th>\n      <th>date</th>\n      <th>home_team_api_id</th>\n      <th>away_team_api_id</th>\n      <th>home_team_goal</th>\n      <th>away_team_goal</th>\n      <th>overall_rating_home</th>\n      <th>overall_rating_away</th>\n      <th>overall_rating_difference</th>\n      <th>mean_overall_rating_home</th>\n      <th>mean_overall_rating_away</th>\n      <th>Home_last5</th>\n      <th>Away_last5</th>\n      <th>mean_bets_home</th>\n      <th>mean_bets_draw</th>\n      <th>goal_diff</th>\n      <th>Game Result</th>\n    </tr>\n  </thead>\n  <tbody>\n    <tr>\n      <th>0</th>\n      <td>8227</td>\n      <td>7809</td>\n      <td>2010-01-30 00:00:00</td>\n      <td>8177</td>\n      <td>9911</td>\n      <td>0</td>\n      <td>0</td>\n      <td>746.0</td>\n      <td>783.0</td>\n      <td>-37.0</td>\n      <td>67.818182</td>\n      <td>71.181818</td>\n      <td>1</td>\n      <td>1</td>\n      <td>1.765556</td>\n      <td>3.322222</td>\n      <td>0</td>\n      <td>Draw</td>\n    </tr>\n    <tr>\n      <th>1</th>\n      <td>8152</td>\n      <td>7809</td>\n      <td>2009-11-22 00:00:00</td>\n      <td>9790</td>\n      <td>9911</td>\n      <td>0</td>\n      <td>1</td>\n      <td>772.0</td>\n      <td>790.0</td>\n      <td>-18.0</td>\n      <td>70.181818</td>\n      <td>71.818182</td>\n      <td>8</td>\n      <td>11</td>\n      <td>1.898889</td>\n      <td>3.250000</td>\n      <td>-1</td>\n      <td>Defeat</td>\n    </tr>\n    <tr>\n      <th>2</th>\n      <td>8109</td>\n      <td>7809</td>\n      <td>2008-10-26 00:00:00</td>\n      <td>10269</td>\n      <td>9911</td>\n      <td>2</td>\n      <td>0</td>\n      <td>780.0</td>\n      <td>719.0</td>\n      <td>61.0</td>\n      <td>70.909091</td>\n      <td>71.900000</td>\n      <td>9</td>\n      <td>8</td>\n      <td>2.462222</td>\n      <td>3.233333</td>\n      <td>2</td>\n      <td>Win</td>\n    </tr>\n    <tr>\n      <th>3</th>\n      <td>8088</td>\n      <td>7809</td>\n      <td>2008-10-04 00:00:00</td>\n      <td>9823</td>\n      <td>9911</td>\n      <td>3</td>\n      <td>3</td>\n      <td>688.0</td>\n      <td>717.0</td>\n      <td>-29.0</td>\n      <td>68.800000</td>\n      <td>71.700000</td>\n      <td>8</td>\n      <td>3</td>\n      <td>1.438889</td>\n      <td>3.805556</td>\n      <td>0</td>\n      <td>Draw</td>\n    </tr>\n    <tr>\n      <th>4</th>\n      <td>8010</td>\n      <td>7809</td>\n      <td>2008-08-30 00:00:00</td>\n      <td>10189</td>\n      <td>9911</td>\n      <td>1</td>\n      <td>0</td>\n      <td>733.0</td>\n      <td>770.0</td>\n      <td>-37.0</td>\n      <td>66.636364</td>\n      <td>70.000000</td>\n      <td>8</td>\n      <td>-1</td>\n      <td>4.494444</td>\n      <td>3.422222</td>\n      <td>1</td>\n      <td>Win</td>\n    </tr>\n    <tr>\n      <th>...</th>\n      <td>...</td>\n      <td>...</td>\n      <td>...</td>\n      <td>...</td>\n      <td>...</td>\n      <td>...</td>\n      <td>...</td>\n      <td>...</td>\n      <td>...</td>\n      <td>...</td>\n      <td>...</td>\n      <td>...</td>\n      <td>...</td>\n      <td>...</td>\n      <td>...</td>\n      <td>...</td>\n      <td>...</td>\n      <td>...</td>\n    </tr>\n    <tr>\n      <th>6537</th>\n      <td>20738</td>\n      <td>19694</td>\n      <td>2012-08-19 00:00:00</td>\n      <td>9938</td>\n      <td>8284</td>\n      <td>3</td>\n      <td>0</td>\n      <td>772.0</td>\n      <td>780.0</td>\n      <td>-8.0</td>\n      <td>70.181818</td>\n      <td>70.909091</td>\n      <td>-1</td>\n      <td>-1</td>\n      <td>2.044444</td>\n      <td>3.144444</td>\n      <td>3</td>\n      <td>Win</td>\n    </tr>\n    <tr>\n      <th>6538</th>\n      <td>20577</td>\n      <td>19694</td>\n      <td>2011-08-20 00:00:00</td>\n      <td>9938</td>\n      <td>8457</td>\n      <td>0</td>\n      <td>1</td>\n      <td>755.0</td>\n      <td>720.0</td>\n      <td>35.0</td>\n      <td>68.636364</td>\n      <td>65.454545</td>\n      <td>-1</td>\n      <td>-1</td>\n      <td>2.284444</td>\n      <td>3.097778</td>\n      <td>-1</td>\n      <td>Defeat</td>\n    </tr>\n    <tr>\n      <th>6539</th>\n      <td>17958</td>\n      <td>17642</td>\n      <td>2010-02-07 00:00:00</td>\n      <td>7841</td>\n      <td>6421</td>\n      <td>2</td>\n      <td>0</td>\n      <td>752.0</td>\n      <td>779.0</td>\n      <td>-27.0</td>\n      <td>68.363636</td>\n      <td>70.818182</td>\n      <td>-1</td>\n      <td>-1</td>\n      <td>2.282222</td>\n      <td>3.066667</td>\n      <td>2</td>\n      <td>Win</td>\n    </tr>\n    <tr>\n      <th>6540</th>\n      <td>13834</td>\n      <td>13274</td>\n      <td>2009-08-23 00:00:00</td>\n      <td>8611</td>\n      <td>10219</td>\n      <td>2</td>\n      <td>1</td>\n      <td>682.0</td>\n      <td>755.0</td>\n      <td>-73.0</td>\n      <td>68.200000</td>\n      <td>68.636364</td>\n      <td>-1</td>\n      <td>-1</td>\n      <td>2.515556</td>\n      <td>3.100000</td>\n      <td>1</td>\n      <td>Win</td>\n    </tr>\n    <tr>\n      <th>6541</th>\n      <td>13857</td>\n      <td>13274</td>\n      <td>2009-09-13 00:00:00</td>\n      <td>8614</td>\n      <td>10219</td>\n      <td>1</td>\n      <td>0</td>\n      <td>737.0</td>\n      <td>736.0</td>\n      <td>1.0</td>\n      <td>67.000000</td>\n      <td>66.909091</td>\n      <td>-1</td>\n      <td>-1</td>\n      <td>2.518889</td>\n      <td>3.125556</td>\n      <td>1</td>\n      <td>Win</td>\n    </tr>\n  </tbody>\n</table>\n<p>6542 rows × 18 columns</p>\n</div>"
     },
     "metadata": {},
     "execution_count": 12
    }
   ],
   "source": [
    "import numpy as np\n",
    "import pandas as pd\n",
    "import seaborn as sns\n",
    "import matplotlib.pyplot as plt\n",
    "from scipy import stats\n",
    "import sqlite3\n",
    "from sklearn.model_selection import train_test_split\n",
    "from sklearn import preprocessing\n",
    "\n",
    "# Connecting to database\n",
    "database = \"database.sqlite\"\n",
    "con = sqlite3.connect(database)\n",
    "pd.set_option('display.max_columns', None)\n",
    "\n",
    "#Get important tables from db\n",
    "matches_df = pd.read_sql(\"\"\"SELECT * from MATCH\"\"\", con)\n",
    "teams_df = pd.read_sql(\"\"\"SELECT * from TEAM\"\"\", con)\n",
    "player_attributes_df = pd.read_sql(\"\"\"SELECT * from PLAYER_ATTRIBUTES\"\"\", con)\n",
    "team_attributes_df = pd.read_sql(\"\"\"SELECT * from TEAM_ATTRIBUTES\"\"\", con)\n",
    "\n",
    "#Get players' attributes (overall)\n",
    "\n",
    "#Get players info\n",
    "home_players = [\"home_player_\" + str(x) for x in range(1, 12)]\n",
    "away_players = [\"away_player_\" + str(x) for x in range(1, 12)]\n",
    "\n",
    "matches_kept_columns = [\"id\", \"league_id\", \"date\", \"home_team_api_id\", \"away_team_api_id\", \"home_team_goal\", \"away_team_goal\"]\n",
    "matches_kept_columns = matches_kept_columns + home_players\n",
    "matches_kept_columns = matches_kept_columns + away_players\n",
    "\n",
    "matches_df = matches_df[matches_kept_columns]\n",
    "\n",
    "#Get overall ratings for all players from player_attributes table\n",
    "for player in home_players:\n",
    "    matches_df = pd.merge(matches_df, player_attributes_df[[\"id\", \"overall_rating\"]], left_on=[player], right_on=[\"id\"], suffixes=[\"\", \"_\" + player])\n",
    "for player in away_players:\n",
    "    matches_df = pd.merge(matches_df, player_attributes_df[[\"id\", \"overall_rating\"]], left_on=[player], right_on=[\"id\"], suffixes=[\"\", \"_\" + player])\n",
    " \n",
    "\n",
    "matches_df = matches_df.rename(columns={\"overall_rating\": \"overall_rating_home_player_1\"})\n",
    "\n",
    "matches_df['overall_rating_home'] = matches_df[['overall_rating_' + p for p in home_players]].sum(axis=1)\n",
    "matches_df['overall_rating_away'] = matches_df[['overall_rating_' + p for p in away_players]].sum(axis=1)\n",
    "matches_df['overall_rating_difference'] = matches_df['overall_rating_home'] - matches_df['overall_rating_away']\n",
    "\n",
    "matches_df['mean_overall_rating_home'] = matches_df[['overall_rating_' + p for p in home_players]].mean(axis=1)\n",
    "matches_df['mean_overall_rating_away'] = matches_df[['overall_rating_' + p for p in away_players]].mean(axis=1)\n",
    "\n",
    "\n",
    "#Remove all players column because we just need the \"global\" ones\n",
    "for c in matches_df.columns:\n",
    "    if '_player_' in c:\n",
    "        matches_df = matches_df.drop(c, axis=1)\n",
    "\n",
    "#function to calculate last 5 games performance\n",
    "def last5(team_id, date, match_t):\n",
    "     \n",
    "    mat = match_t[(match_t['date'] < date)]\n",
    "    mat = mat[mat['home_team_api_id'] == team_id]\n",
    "    \n",
    "    mat5 = mat.head(5)\n",
    "    if len(mat5.index) < 5:\n",
    "        return -1\n",
    "    mat5['Home result'] = 0\n",
    "    mat5['Home result'] = np.where(mat5['home_team_goal'] > mat5['away_team_goal'], 3, mat5['Home result'])\n",
    "    mat5['Home result'] = np.where(mat5['home_team_goal'] == mat5['away_team_goal'], 1, mat5['Home result'])\n",
    "    total = mat5['Home result'].sum()\n",
    "    return total\n",
    "\n",
    "match_t = matches_df[['home_team_api_id', 'away_team_api_id','date', 'home_team_goal', 'away_team_goal']].copy()\n",
    "match_t['date'] = pd.to_datetime(match_t['date'])\n",
    "match_t.sort_values(by=['date'], inplace=True, ascending=False) \n",
    "matches_df['Home_last5'] = 0\n",
    "matches_df['Away_last5'] = 0\n",
    "perc = 0\n",
    "for i in matches_df.index:\n",
    "    Htotal = last5(match_t['home_team_api_id'].iloc[i], match_t['date'].iloc[i], match_t)\n",
    "    Atotal = last5(match_t['away_team_api_id'].iloc[i], match_t['date'].iloc[i], match_t)\n",
    "    matches_df['Home_last5'].values[i] = Htotal\n",
    "    matches_df['Away_last5'].values[i] = Atotal\n",
    "    if i % 655 == 0:\n",
    "        perc += 10\n",
    "        print(perc, \"%\", end=\" \")\n",
    "\n",
    "matches_df\n",
    "\n",
    "matches_aux = pd.read_sql(\"\"\"SELECT * FROM MATCH\"\"\" ,con)\n",
    "\n",
    "#Select all bet columns (removed PSA, PSH, PSD because they are almost all NaN)\n",
    "bet_columns = [\"B365H\", \"B365A\", \"B365D\", \"BWH\", \"BWD\", \"BWA\", \"IWH\", \"IWD\", \"IWA\", \"LBH\", \"LBD\", \"LBA\", \"WHH\", \"WHD\", \"WHA\", \"SJH\", \"SJD\", \"SJA\", \"VCH\", \"VCD\", \"VCA\", \"GBH\", \"GBD\", \"GBA\", \"BSH\", \"BSD\", \"BSA\"]\n",
    "\n",
    "#Get specific columns for bets on home and draw\n",
    "bet_columns_home = [\"B365H\", \"BWH\",\"IWH\", \"LBH\", \"WHH\", \"SJH\", \"VCH\", \"GBH\",\"BSH\"]\n",
    "bet_columns_draw = [\"B365D\", \"BWD\",\"IWD\", \"LBD\", \"WHD\", \"SJD\", \"VCD\", \"GBD\",\"BSD\"]\n",
    "\n",
    "#Calculate mean values for bets on home team and draw. Add these values to match table\n",
    "matches_df['mean_bets_home'] = matches_aux[bet_columns_home].mean(axis=1)\n",
    "matches_df['mean_bets_draw'] = matches_aux[bet_columns_draw].mean(axis=1)\n",
    "#Replace NaN values (on bets) with mean values \n",
    "matches_df.fillna(matches_df.mean(), inplace=True)\n",
    "matches_df.isnull().sum()\n",
    "\n",
    "#Get goal difference\n",
    "matches_df['goal_diff'] = matches_df['home_team_goal'] - matches_df['away_team_goal']\n",
    "\n",
    "matches_df['Game Result'] = 'Defeat'\n",
    "matches_df['Game Result'] = np.where(matches_df['goal_diff'] == 0, 'Draw', matches_df['Game Result'])\n",
    "matches_df['Game Result'] = np.where(matches_df['goal_diff'] > 0, 'Win', matches_df['Game Result'])\n",
    "\n",
    "matches_df"
   ]
  },
  {
   "cell_type": "code",
   "execution_count": 13,
   "metadata": {},
   "outputs": [
    {
     "output_type": "execute_result",
     "data": {
      "text/plain": "      league_id  overall_rating_home  overall_rating_away  \\\n0          7809                746.0                783.0   \n1          7809                772.0                790.0   \n2          7809                780.0                719.0   \n3          7809                688.0                717.0   \n4          7809                733.0                770.0   \n...         ...                  ...                  ...   \n6537      19694                772.0                780.0   \n6538      19694                755.0                720.0   \n6539      17642                752.0                779.0   \n6540      13274                682.0                755.0   \n6541      13274                737.0                736.0   \n\n      mean_overall_rating_home  mean_overall_rating_away  Home_last5  \\\n0                    67.818182                 71.181818           1   \n1                    70.181818                 71.818182           8   \n2                    70.909091                 71.900000           9   \n3                    68.800000                 71.700000           8   \n4                    66.636364                 70.000000           8   \n...                        ...                       ...         ...   \n6537                 70.181818                 70.909091          -1   \n6538                 68.636364                 65.454545          -1   \n6539                 68.363636                 70.818182          -1   \n6540                 68.200000                 68.636364          -1   \n6541                 67.000000                 66.909091          -1   \n\n      Away_last5  mean_bets_home  mean_bets_draw Game Result  \n0              1        1.765556        3.322222        Draw  \n1             11        1.898889        3.250000      Defeat  \n2              8        2.462222        3.233333         Win  \n3              3        1.438889        3.805556        Draw  \n4             -1        4.494444        3.422222         Win  \n...          ...             ...             ...         ...  \n6537          -1        2.044444        3.144444         Win  \n6538          -1        2.284444        3.097778      Defeat  \n6539          -1        2.282222        3.066667         Win  \n6540          -1        2.515556        3.100000         Win  \n6541          -1        2.518889        3.125556         Win  \n\n[6542 rows x 10 columns]",
      "text/html": "<div>\n<style scoped>\n    .dataframe tbody tr th:only-of-type {\n        vertical-align: middle;\n    }\n\n    .dataframe tbody tr th {\n        vertical-align: top;\n    }\n\n    .dataframe thead th {\n        text-align: right;\n    }\n</style>\n<table border=\"1\" class=\"dataframe\">\n  <thead>\n    <tr style=\"text-align: right;\">\n      <th></th>\n      <th>league_id</th>\n      <th>overall_rating_home</th>\n      <th>overall_rating_away</th>\n      <th>mean_overall_rating_home</th>\n      <th>mean_overall_rating_away</th>\n      <th>Home_last5</th>\n      <th>Away_last5</th>\n      <th>mean_bets_home</th>\n      <th>mean_bets_draw</th>\n      <th>Game Result</th>\n    </tr>\n  </thead>\n  <tbody>\n    <tr>\n      <th>0</th>\n      <td>7809</td>\n      <td>746.0</td>\n      <td>783.0</td>\n      <td>67.818182</td>\n      <td>71.181818</td>\n      <td>1</td>\n      <td>1</td>\n      <td>1.765556</td>\n      <td>3.322222</td>\n      <td>Draw</td>\n    </tr>\n    <tr>\n      <th>1</th>\n      <td>7809</td>\n      <td>772.0</td>\n      <td>790.0</td>\n      <td>70.181818</td>\n      <td>71.818182</td>\n      <td>8</td>\n      <td>11</td>\n      <td>1.898889</td>\n      <td>3.250000</td>\n      <td>Defeat</td>\n    </tr>\n    <tr>\n      <th>2</th>\n      <td>7809</td>\n      <td>780.0</td>\n      <td>719.0</td>\n      <td>70.909091</td>\n      <td>71.900000</td>\n      <td>9</td>\n      <td>8</td>\n      <td>2.462222</td>\n      <td>3.233333</td>\n      <td>Win</td>\n    </tr>\n    <tr>\n      <th>3</th>\n      <td>7809</td>\n      <td>688.0</td>\n      <td>717.0</td>\n      <td>68.800000</td>\n      <td>71.700000</td>\n      <td>8</td>\n      <td>3</td>\n      <td>1.438889</td>\n      <td>3.805556</td>\n      <td>Draw</td>\n    </tr>\n    <tr>\n      <th>4</th>\n      <td>7809</td>\n      <td>733.0</td>\n      <td>770.0</td>\n      <td>66.636364</td>\n      <td>70.000000</td>\n      <td>8</td>\n      <td>-1</td>\n      <td>4.494444</td>\n      <td>3.422222</td>\n      <td>Win</td>\n    </tr>\n    <tr>\n      <th>...</th>\n      <td>...</td>\n      <td>...</td>\n      <td>...</td>\n      <td>...</td>\n      <td>...</td>\n      <td>...</td>\n      <td>...</td>\n      <td>...</td>\n      <td>...</td>\n      <td>...</td>\n    </tr>\n    <tr>\n      <th>6537</th>\n      <td>19694</td>\n      <td>772.0</td>\n      <td>780.0</td>\n      <td>70.181818</td>\n      <td>70.909091</td>\n      <td>-1</td>\n      <td>-1</td>\n      <td>2.044444</td>\n      <td>3.144444</td>\n      <td>Win</td>\n    </tr>\n    <tr>\n      <th>6538</th>\n      <td>19694</td>\n      <td>755.0</td>\n      <td>720.0</td>\n      <td>68.636364</td>\n      <td>65.454545</td>\n      <td>-1</td>\n      <td>-1</td>\n      <td>2.284444</td>\n      <td>3.097778</td>\n      <td>Defeat</td>\n    </tr>\n    <tr>\n      <th>6539</th>\n      <td>17642</td>\n      <td>752.0</td>\n      <td>779.0</td>\n      <td>68.363636</td>\n      <td>70.818182</td>\n      <td>-1</td>\n      <td>-1</td>\n      <td>2.282222</td>\n      <td>3.066667</td>\n      <td>Win</td>\n    </tr>\n    <tr>\n      <th>6540</th>\n      <td>13274</td>\n      <td>682.0</td>\n      <td>755.0</td>\n      <td>68.200000</td>\n      <td>68.636364</td>\n      <td>-1</td>\n      <td>-1</td>\n      <td>2.515556</td>\n      <td>3.100000</td>\n      <td>Win</td>\n    </tr>\n    <tr>\n      <th>6541</th>\n      <td>13274</td>\n      <td>737.0</td>\n      <td>736.0</td>\n      <td>67.000000</td>\n      <td>66.909091</td>\n      <td>-1</td>\n      <td>-1</td>\n      <td>2.518889</td>\n      <td>3.125556</td>\n      <td>Win</td>\n    </tr>\n  </tbody>\n</table>\n<p>6542 rows × 10 columns</p>\n</div>"
     },
     "metadata": {},
     "execution_count": 13
    }
   ],
   "source": [
    "matches_df = matches_df.drop(['id', 'date', 'home_team_api_id','away_team_api_id','home_team_goal','away_team_goal','overall_rating_difference', 'goal_diff'], axis=1)\n",
    "matches_df\n"
   ]
  },
  {
   "cell_type": "code",
   "execution_count": 30,
   "metadata": {},
   "outputs": [
    {
     "output_type": "execute_result",
     "data": {
      "text/plain": "0.40295466123280693"
     },
     "metadata": {},
     "execution_count": 30
    }
   ],
   "source": [
    "from sklearn.model_selection import train_test_split\n",
    "from sklearn import preprocessing\n",
    "from sklearn.neural_network import MLPClassifier\n",
    "\n",
    "\n",
    "\n",
    "y = matches_df['Game Result']\n",
    "X = matches_df.drop('Game Result', axis=1)\n",
    "X_train, X_test, y_train, y_test = train_test_split(X, y, \n",
    "                                                    test_size=0.3, \n",
    "                                                    random_state=42, \n",
    "                                                    stratify=y)\n",
    "scaler = preprocessing.StandardScaler().fit(X_train)\n",
    "X_train_scaled = scaler.transform(X_train)\n",
    "clf = MLPClassifier(solver='lbfgs', alpha=1e-5,\n",
    "                         hidden_layer_sizes=(15, 15,15, 15,15, 15),verbose=10, random_state=1, tol=1e-6)\n",
    "clf.fit(X_train_scaled, y_train)\n",
    "x=clf.predict(scaler.transform(X_test))\n",
    "np.set_printoptions(threshold=sys.maxsize)\n",
    "\n",
    "\n",
    "from sklearn.metrics import accuracy_score\n",
    "\n",
    "accuracy_score(y_test, x)"
   ]
  },
  {
   "cell_type": "code",
   "execution_count": 33,
   "metadata": {},
   "outputs": [],
   "source": [
    "from sklearn.model_selection import KFold\n",
    "from sklearn.model_selection import GridSearchCV\n",
    "\n",
    "parameters = {'hidden_layer_sizes':((10,3), (15,10))}\n",
    "mlp = MLPClassifier(solver='lbfgs', alpha=1e-5,verbose=10, random_state=1, tol=1e-6);\n",
    "clf = GridSearchCV(mlp, parameters)\n",
    "\n"
   ]
  },
  {
   "cell_type": "code",
   "execution_count": null,
   "metadata": {},
   "outputs": [],
   "source": []
  }
 ],
 "metadata": {
  "kernelspec": {
   "display_name": "Python 3",
   "language": "python",
   "name": "python3"
  },
  "language_info": {
   "codemirror_mode": {
    "name": "ipython",
    "version": 3
   },
   "file_extension": ".py",
   "mimetype": "text/x-python",
   "name": "python",
   "nbconvert_exporter": "python",
   "pygments_lexer": "ipython3",
   "version": "3.7.2-final"
  }
 },
 "nbformat": 4,
 "nbformat_minor": 4
}