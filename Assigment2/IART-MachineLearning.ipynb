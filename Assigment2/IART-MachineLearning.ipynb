{
 "cells": [
  {
   "cell_type": "markdown",
   "metadata": {},
   "source": [
    "# Assignment 2 - Machine Learning\n",
    "## FEUP MIEIC - Inteligência Artificial *(EIC0029/IART)*\n",
    "\n"
   ]
  },
  {
   "cell_type": "markdown",
   "metadata": {},
   "source": [
    "## Complete Assignment\n",
    "\n",
    "*This Jupyter Notebook comprises of all the work developed for the 2nd Assignment of the Course Inteligencia Artificial (EIC0029/IART) of Mestrado Integrado em Engenharia Informática e Computação (MIEIC) at Fauldade de Engenharia da Universidade do Porto (FEUP)* \n",
    "\n",
    "## Index\n",
    ">Although this document contains all work developed, in this repository you will also find the partial notebooks used throughout the developent process, devided by the items in this index, reachable through the links embeded in the aforementioned section\n",
    "\n",
    "1. [Data Pre-processing](partials/pre-processing.ipynb)\n",
    "2. [Decision Tree](partials/decision-tree.ipynb)\n",
    "3. [K-Nearest Neighbor](partials/k-nearest-neighbor.ipynb)\n",
    "4. [Neural Network](partials/neural-networl.ipynb)\n",
    "5. [Model Comparison](partials/model-comparison.ipynb)\n",
    "6. [Conclusions](partials/conclusions.ipynb)\n",
    "\n",
    "***"
   ]
  },
  {
   "cell_type": "markdown",
   "metadata": {},
   "source": [
    "## 1. Data Pre-processing \n",
    "In this section we will implement and document our approach to extract, manipulate, and in essence pre-process the data that will be used to train and test our machine learning models. The main goal of this step is to reduce the processing time of each algorithm and increase their precision by using only the relevant information."
   ]
  },
  {
   "cell_type": "markdown",
   "metadata": {},
   "source": [
    "We started by extracting all important data from the dataset provided. Because there all multiple missing values in the <i>team_attributes</i> table, we chose not to use it. We also decided not to use the tables <i> country </i>, <i> league </i> and <i> player </i> since we considered their data irrelevant to our problem."
   ]
  },
  {
   "cell_type": "code",
   "execution_count": 1,
   "metadata": {},
   "outputs": [],
   "source": [
    "import numpy as np\n",
    "import pandas as pd\n",
    "import seaborn as sns\n",
    "import matplotlib.pyplot as plt\n",
    "from scipy import stats\n",
    "import sqlite3\n",
    "from sklearn.model_selection import train_test_split\n",
    "from sklearn import preprocessing"
   ]
  },
  {
   "cell_type": "code",
   "execution_count": 2,
   "metadata": {},
   "outputs": [],
   "source": [
    "# Connecting to database\n",
    "\n",
    "database = \"database.sqlite\"\n",
    "con = sqlite3.connect(database)"
   ]
  },
  {
   "cell_type": "code",
   "execution_count": 3,
   "metadata": {},
   "outputs": [],
   "source": [
    "# Extracting relevant data from the database\n",
    "\n",
    "matches_df = pd.read_sql(\"\"\"SELECT * from MATCH\"\"\", con)\n",
    "teams_df = pd.read_sql(\"\"\"SELECT * from TEAM\"\"\", con)\n",
    "player_attributes_df = pd.read_sql(\"\"\"SELECT * from PLAYER_ATTRIBUTES\"\"\", con)\n",
    "team_attributes_df = pd.read_sql(\"\"\"SELECT * from TEAM_ATTRIBUTES\"\"\", con)"
   ]
  },
  {
   "cell_type": "markdown",
   "metadata": {},
   "source": [
    "At a first glance we verified the existence of too many columns so we decided to make some adjustments: we started by choosing the features we wanted to keep and after that we tried to aggregate all related variables (such as players' info and odds) and have some \"background\" info of each team in a match."
   ]
  },
  {
   "cell_type": "code",
   "execution_count": 4,
   "metadata": {},
   "outputs": [],
   "source": [
    "# Selecting features to keep\n",
    "\n",
    "matches_kept_columns = [\"id\", \"league_id\", \"date\", \"home_team_api_id\", \"away_team_api_id\", \"home_team_goal\", \"away_team_goal\"]"
   ]
  },
  {
   "cell_type": "code",
   "execution_count": 5,
   "metadata": {},
   "outputs": [],
   "source": [
    "# Selecting players labels\n",
    "\n",
    "home_players = [\"home_player_\" + str(x) for x in range(1, 12)]\n",
    "away_players = [\"away_player_\" + str(x) for x in range(1, 12)]\n",
    "\n",
    "\n",
    "# Merge features to keep\n",
    "\n",
    "matches_kept_columns = matches_kept_columns + home_players\n",
    "matches_kept_columns = matches_kept_columns + away_players\n",
    "matches_df = matches_df[matches_kept_columns]"
   ]
  },
  {
   "cell_type": "code",
   "execution_count": 6,
   "metadata": {},
   "outputs": [],
   "source": [
    "#Geting overall ratings for all players from the player_attributes table\n",
    "\n",
    "for player in home_players:\n",
    "    matches_df = pd.merge(matches_df, player_attributes_df[[\"id\", \"overall_rating\"]], left_on=[player], right_on=[\"id\"], suffixes=[\"\", \"_\" + player])\n",
    "for player in away_players:\n",
    "    matches_df = pd.merge(matches_df, player_attributes_df[[\"id\", \"overall_rating\"]], left_on=[player], right_on=[\"id\"], suffixes=[\"\", \"_\" + player])\n",
    "\n",
    "    \n",
    "matches_df = matches_df.rename(columns={\"overall_rating\": \"overall_rating_home_player_1\"})\n",
    "\n",
    "matches_df['overall_rating_home'] = matches_df[['overall_rating_' + p for p in home_players]].sum(axis=1)\n",
    "matches_df['overall_rating_away'] = matches_df[['overall_rating_' + p for p in away_players]].sum(axis=1)\n",
    "matches_df['overall_rating_difference'] = matches_df['overall_rating_home'] - matches_df['overall_rating_away']\n",
    "\n",
    "matches_df['mean_overall_rating_home'] = matches_df[['overall_rating_' + p for p in home_players]].mean(axis=1)\n",
    "matches_df['mean_overall_rating_away'] = matches_df[['overall_rating_' + p for p in away_players]].mean(axis=1)    "
   ]
  },
  {
   "cell_type": "markdown",
   "metadata": {},
   "source": [
    "Since our goal was reducing the number of features of a <i>match</i>, we ultimately ended up erasing all variables related to a specific player and keep only the mean values of the players' overall attributes and the difference between the best and worst players of each teams."
   ]
  },
  {
   "cell_type": "code",
   "execution_count": 7,
   "metadata": {},
   "outputs": [],
   "source": [
    "# Removing individual player info\n",
    "\n",
    "for c in matches_df.columns:\n",
    "    if '_player_' in c:\n",
    "        matches_df = matches_df.drop(c, axis=1)"
   ]
  },
  {
   "cell_type": "markdown",
   "metadata": {},
   "source": [
    "We considered that was important to understand the evolution of a team between matches, so we developed a method that is able to extract the results of the last 5 matches of a team. "
   ]
  },
  {
   "cell_type": "code",
   "execution_count": 8,
   "metadata": {},
   "outputs": [
    {
     "name": "stderr",
     "output_type": "stream",
     "text": [
      "C:\\ProgramData\\Anaconda3\\lib\\site-packages\\ipykernel_launcher.py:11: SettingWithCopyWarning: \n",
      "A value is trying to be set on a copy of a slice from a DataFrame.\n",
      "Try using .loc[row_indexer,col_indexer] = value instead\n",
      "\n",
      "See the caveats in the documentation: https://pandas.pydata.org/pandas-docs/stable/user_guide/indexing.html#returning-a-view-versus-a-copy\n",
      "  # This is added back by InteractiveShellApp.init_path()\n",
      "C:\\ProgramData\\Anaconda3\\lib\\site-packages\\ipykernel_launcher.py:12: SettingWithCopyWarning: \n",
      "A value is trying to be set on a copy of a slice from a DataFrame.\n",
      "Try using .loc[row_indexer,col_indexer] = value instead\n",
      "\n",
      "See the caveats in the documentation: https://pandas.pydata.org/pandas-docs/stable/user_guide/indexing.html#returning-a-view-versus-a-copy\n",
      "  if sys.path[0] == '':\n",
      "C:\\ProgramData\\Anaconda3\\lib\\site-packages\\ipykernel_launcher.py:13: SettingWithCopyWarning: \n",
      "A value is trying to be set on a copy of a slice from a DataFrame.\n",
      "Try using .loc[row_indexer,col_indexer] = value instead\n",
      "\n",
      "See the caveats in the documentation: https://pandas.pydata.org/pandas-docs/stable/user_guide/indexing.html#returning-a-view-versus-a-copy\n",
      "  del sys.path[0]\n"
     ]
    },
    {
     "name": "stdout",
     "output_type": "stream",
     "text": [
      "10 % 20 % 30 % 40 % 50 % 60 % 70 % 80 % 90 % 100 % "
     ]
    }
   ],
   "source": [
    "#Calculating the performance of the last 5 matches of a team\n",
    "\n",
    "def last5(team_id, date, match_t):\n",
    "     \n",
    "    mat = match_t[(match_t['date'] < date)]\n",
    "    mat = mat[mat['home_team_api_id'] == team_id]\n",
    "    \n",
    "    mat5 = mat.head(5)\n",
    "    if len(mat5.index) < 5:\n",
    "        return 0\n",
    "    mat5['Home result'] = 0\n",
    "    mat5['Home result'] = np.where(mat5['home_team_goal'] > mat5['away_team_goal'], 3, mat5['Home result'])\n",
    "    mat5['Home result'] = np.where(mat5['home_team_goal'] == mat5['away_team_goal'], 1, mat5['Home result'])\n",
    "    total = mat5['Home result'].sum()\n",
    "    return total\n",
    "\n",
    "match_t = matches_df[['home_team_api_id', 'away_team_api_id','date', 'home_team_goal', 'away_team_goal']].copy()\n",
    "match_t['date'] = pd.to_datetime(match_t['date'])\n",
    "match_t.sort_values(by=['date'], inplace=True, ascending=False) \n",
    "matches_df['Home_last5'] = 0\n",
    "matches_df['Away_last5'] = 0\n",
    "perc = 0\n",
    "\n",
    "for i in matches_df.index:\n",
    "    Htotal = last5(match_t['home_team_api_id'].iloc[i], match_t['date'].iloc[i], match_t)\n",
    "    Atotal = last5(match_t['away_team_api_id'].iloc[i], match_t['date'].iloc[i], match_t)\n",
    "    matches_df['Home_last5'].values[i] = Htotal\n",
    "    matches_df['Away_last5'].values[i] = Atotal\n",
    "    if i % 655 == 0:\n",
    "        perc += 10\n",
    "        print(perc, \"%\", end=\" \")"
   ]
  },
  {
   "cell_type": "markdown",
   "metadata": {},
   "source": [
    "Finally, we decided to also include the odds in our final data set. There were many <i>null</i> values so we replaced them with their mean values. TODO: FALAR MAIS SOBRE ISTO!"
   ]
  },
  {
   "cell_type": "code",
   "execution_count": 9,
   "metadata": {},
   "outputs": [],
   "source": [
    "matches_aux = pd.read_sql(\"\"\"SELECT * FROM MATCH\"\"\" ,con)\n",
    "\n",
    "#Select all bet columns (removed PSA, PSH, PSD because they are almost all NaN)\n",
    "\n",
    "bet_columns = [\"B365H\", \"B365A\", \"B365D\", \"BWH\", \"BWD\", \"BWA\", \"IWH\", \"IWD\", \"IWA\", \"LBH\", \"LBD\", \"LBA\", \"WHH\", \"WHD\", \"WHA\", \"SJH\", \"SJD\", \"SJA\", \"VCH\", \"VCD\", \"VCA\", \"GBH\", \"GBD\", \"GBA\", \"BSH\", \"BSD\", \"BSA\"]\n",
    "\n",
    "\n",
    "#Get specific columns for bets on home and draw\n",
    "\n",
    "bet_columns_home = [\"B365H\", \"BWH\",\"IWH\", \"LBH\", \"WHH\", \"SJH\", \"VCH\", \"GBH\",\"BSH\"]\n",
    "bet_columns_draw = [\"B365D\", \"BWD\",\"IWD\", \"LBD\", \"WHD\", \"SJD\", \"VCD\", \"GBD\",\"BSD\"]\n",
    "bet_columns_away = [\"B365A\", \"BWA\",\"IWA\", \"LBA\", \"WHA\", \"SJA\", \"VCA\", \"GBA\",\"BSA\"]\n",
    "\n",
    "\n",
    "#Calculate mean values for bets on home team and draw. Add these values to match table\n",
    "\n",
    "matches_df['mean_bets_home'] = matches_aux[bet_columns_home].mean(axis=1)\n",
    "matches_df['mean_bets_draw'] = matches_aux[bet_columns_draw].mean(axis=1)\n",
    "matches_df['mean_bets_away'] = matches_aux[bet_columns_away].mean(axis=1)\n",
    "\n",
    "\n",
    "#Replace NaN values (on bets) with mean values \n",
    "\n",
    "matches_df.fillna(matches_df.mean(), inplace=True)"
   ]
  },
  {
   "cell_type": "markdown",
   "metadata": {},
   "source": [
    "We calculated our class variable by getting the goals difference in each match and then mapping it into the correspondent class."
   ]
  },
  {
   "cell_type": "code",
   "execution_count": 10,
   "metadata": {},
   "outputs": [],
   "source": [
    "# Getting the goal difference\n",
    "\n",
    "matches_df['goal_diff'] = matches_df['home_team_goal'] - matches_df['away_team_goal']\n",
    "\n",
    "matches_df['Game Result'] = 'Defeat'\n",
    "matches_df['Game Result'] = np.where(matches_df['goal_diff'] == 0, 'Draw', matches_df['Game Result'])\n",
    "matches_df['Game Result'] = np.where(matches_df['goal_diff'] > 0, 'Win', matches_df['Game Result'])\n"
   ]
  },
  {
   "cell_type": "markdown",
   "metadata": {},
   "source": [
    "Lastly we dropped all unnecessary variables."
   ]
  },
  {
   "cell_type": "code",
   "execution_count": 11,
   "metadata": {},
   "outputs": [
    {
     "data": {
      "text/html": [
       "<div>\n",
       "<style scoped>\n",
       "    .dataframe tbody tr th:only-of-type {\n",
       "        vertical-align: middle;\n",
       "    }\n",
       "\n",
       "    .dataframe tbody tr th {\n",
       "        vertical-align: top;\n",
       "    }\n",
       "\n",
       "    .dataframe thead th {\n",
       "        text-align: right;\n",
       "    }\n",
       "</style>\n",
       "<table border=\"1\" class=\"dataframe\">\n",
       "  <thead>\n",
       "    <tr style=\"text-align: right;\">\n",
       "      <th></th>\n",
       "      <th>overall_rating_home</th>\n",
       "      <th>overall_rating_away</th>\n",
       "      <th>overall_rating_difference</th>\n",
       "      <th>mean_overall_rating_home</th>\n",
       "      <th>mean_overall_rating_away</th>\n",
       "      <th>Home_last5</th>\n",
       "      <th>Away_last5</th>\n",
       "      <th>mean_bets_home</th>\n",
       "      <th>mean_bets_draw</th>\n",
       "      <th>mean_bets_away</th>\n",
       "      <th>Game Result</th>\n",
       "    </tr>\n",
       "  </thead>\n",
       "  <tbody>\n",
       "    <tr>\n",
       "      <th>0</th>\n",
       "      <td>746.0</td>\n",
       "      <td>783.0</td>\n",
       "      <td>-37.0</td>\n",
       "      <td>67.818182</td>\n",
       "      <td>71.181818</td>\n",
       "      <td>1</td>\n",
       "      <td>1</td>\n",
       "      <td>1.765556</td>\n",
       "      <td>3.322222</td>\n",
       "      <td>4.164444</td>\n",
       "      <td>Draw</td>\n",
       "    </tr>\n",
       "    <tr>\n",
       "      <th>1</th>\n",
       "      <td>772.0</td>\n",
       "      <td>790.0</td>\n",
       "      <td>-18.0</td>\n",
       "      <td>70.181818</td>\n",
       "      <td>71.818182</td>\n",
       "      <td>8</td>\n",
       "      <td>11</td>\n",
       "      <td>1.898889</td>\n",
       "      <td>3.250000</td>\n",
       "      <td>3.616667</td>\n",
       "      <td>Defeat</td>\n",
       "    </tr>\n",
       "    <tr>\n",
       "      <th>2</th>\n",
       "      <td>780.0</td>\n",
       "      <td>719.0</td>\n",
       "      <td>61.0</td>\n",
       "      <td>70.909091</td>\n",
       "      <td>71.900000</td>\n",
       "      <td>9</td>\n",
       "      <td>8</td>\n",
       "      <td>2.462222</td>\n",
       "      <td>3.233333</td>\n",
       "      <td>2.544444</td>\n",
       "      <td>Win</td>\n",
       "    </tr>\n",
       "    <tr>\n",
       "      <th>3</th>\n",
       "      <td>688.0</td>\n",
       "      <td>717.0</td>\n",
       "      <td>-29.0</td>\n",
       "      <td>68.800000</td>\n",
       "      <td>71.700000</td>\n",
       "      <td>8</td>\n",
       "      <td>3</td>\n",
       "      <td>1.438889</td>\n",
       "      <td>3.805556</td>\n",
       "      <td>6.533333</td>\n",
       "      <td>Draw</td>\n",
       "    </tr>\n",
       "    <tr>\n",
       "      <th>4</th>\n",
       "      <td>733.0</td>\n",
       "      <td>770.0</td>\n",
       "      <td>-37.0</td>\n",
       "      <td>66.636364</td>\n",
       "      <td>70.000000</td>\n",
       "      <td>8</td>\n",
       "      <td>0</td>\n",
       "      <td>4.494444</td>\n",
       "      <td>3.422222</td>\n",
       "      <td>1.674444</td>\n",
       "      <td>Win</td>\n",
       "    </tr>\n",
       "  </tbody>\n",
       "</table>\n",
       "</div>"
      ],
      "text/plain": [
       "   overall_rating_home  overall_rating_away  overall_rating_difference  \\\n",
       "0                746.0                783.0                      -37.0   \n",
       "1                772.0                790.0                      -18.0   \n",
       "2                780.0                719.0                       61.0   \n",
       "3                688.0                717.0                      -29.0   \n",
       "4                733.0                770.0                      -37.0   \n",
       "\n",
       "   mean_overall_rating_home  mean_overall_rating_away  Home_last5  Away_last5  \\\n",
       "0                 67.818182                 71.181818           1           1   \n",
       "1                 70.181818                 71.818182           8          11   \n",
       "2                 70.909091                 71.900000           9           8   \n",
       "3                 68.800000                 71.700000           8           3   \n",
       "4                 66.636364                 70.000000           8           0   \n",
       "\n",
       "   mean_bets_home  mean_bets_draw  mean_bets_away Game Result  \n",
       "0        1.765556        3.322222        4.164444        Draw  \n",
       "1        1.898889        3.250000        3.616667      Defeat  \n",
       "2        2.462222        3.233333        2.544444         Win  \n",
       "3        1.438889        3.805556        6.533333        Draw  \n",
       "4        4.494444        3.422222        1.674444         Win  "
      ]
     },
     "execution_count": 11,
     "metadata": {},
     "output_type": "execute_result"
    }
   ],
   "source": [
    "#Removing unnecessary data\n",
    "\n",
    "matches_df = matches_df.drop([ 'id', 'league_id', 'date', 'home_team_api_id','away_team_api_id','home_team_goal','away_team_goal','goal_diff'], axis=1)\n",
    "matches_df.head()"
   ]
  },
  {
   "cell_type": "markdown",
   "metadata": {},
   "source": [
    "After some testing, we verified that our data set was still very <b>imbalanced</b> (very unequal number of instances of classes) and that our classification algorithms were very sensitive to it. Considering that we had already a small number of data, we opted for an <b>over-sampling</b> approach by duplicating samples of the classes with fewer instances. "
   ]
  },
  {
   "cell_type": "code",
   "execution_count": 13,
   "metadata": {},
   "outputs": [],
   "source": [
    "from imblearn.over_sampling import SMOTE\n",
    "\n",
    "# Selecting our class variable (y) and extracting it from the features list (x)\n",
    "\n",
    "y = matches_df['Game Result']\n",
    "x = matches_df.drop('Game Result', axis=1)\n",
    "\n",
    "x, y = SMOTE().fit_sample(x, y)"
   ]
  },
  {
   "cell_type": "markdown",
   "metadata": {},
   "source": [
    "We divided our data into a <b>training dataset</b> (the sample of data used to fit the model) and a <b>testing dataset</b> (the sample of data used to provide an unbiased evaluation of a model fit on the training dataset while tuning model hyperparameter), with a 70/30 random split."
   ]
  },
  {
   "cell_type": "code",
   "execution_count": 15,
   "metadata": {},
   "outputs": [],
   "source": [
    "# Getting the train and test sets\n",
    "\n",
    "X_train, X_test, y_train, y_test = train_test_split(X, y, \n",
    "                                                    test_size=0.3, \n",
    "                                                    random_state=42, \n",
    "                                                    stratify=y)"
   ]
  },
  {
   "cell_type": "markdown",
   "metadata": {},
   "source": [
    "Since our dataset contains features highly variable in units (e.g.: odds and players overall), we agreed that <b>scaling</b> both our training and testing dataset was a good idea. \n",
    "It is also important to say that although this step is not so relevant for tree based models, algorithms such as k-nearest neighbor that uses Eucliden distance measure are very sensitive to magnitudes and hence should be scaled for all features to weigh in equally."
   ]
  },
  {
   "cell_type": "code",
   "execution_count": 17,
   "metadata": {},
   "outputs": [],
   "source": [
    "# Scaling data\n",
    "\n",
    "scaler = preprocessing.StandardScaler().fit(X_train)\n",
    "\n",
    "X_train_scaled = scaler.transform(X_train)\n",
    "X_test_scaled = scaler.transform(X_test)"
   ]
  },
  {
   "cell_type": "markdown",
   "metadata": {},
   "source": [
    "## 2. Decision Tree \n",
    "In this section we will implpement a decision tree model."
   ]
  },
  {
   "cell_type": "code",
   "execution_count": 22,
   "metadata": {},
   "outputs": [
    {
     "name": "stdout",
     "output_type": "stream",
     "text": [
      "0.4426914153132251 {'criterion': 'gini', 'max_depth': 92, 'splitter': 'random'}\n"
     ]
    }
   ],
   "source": [
    "from sklearn.tree import DecisionTreeClassifier \n",
    "from sklearn.model_selection import GridSearchCV\n",
    "from sklearn.metrics import confusion_matrix\n",
    "from sklearn.metrics import plot_confusion_matrix\n",
    "\n",
    "\n",
    "parameters = {'max_depth': range(5,100),\n",
    "              'criterion': ['gini', 'entropy'],\n",
    "              'splitter' : ['random', 'best']\n",
    "             }\n",
    "\n",
    "clf = GridSearchCV(DecisionTreeClassifier(), parameters, n_jobs=-1, cv=5)\n",
    "\n",
    "clf.fit(X=X_train_scaled, y=y_train)\n",
    "\n",
    "tree_model = clf.best_estimator_\n",
    "\n",
    "print (clf.best_score_, clf.best_params_) \n"
   ]
  },
  {
   "cell_type": "code",
   "execution_count": 25,
   "metadata": {},
   "outputs": [
    {
     "data": {
      "image/png": "[encoded data removed]",
      "text/plain": [
       "<Figure size 432x288 with 2 Axes>"
      ]
     },
     "metadata": {
      "needs_background": "light"
     },
     "output_type": "display_data"
    }
   ],
   "source": [
    "disp = plot_confusion_matrix(tree_model, X_test_scaled, y_test, normalize=\"true\", cmap=plt.cm.Blues)"
   ]
  },
  {
   "cell_type": "code",
   "execution_count": 26,
   "metadata": {},
   "outputs": [],
   "source": [
    "y_pred = tree_model.predict(X_test_scaled)"
   ]
  },
  {
   "cell_type": "code",
   "execution_count": 27,
   "metadata": {},
   "outputs": [
    {
     "name": "stdout",
     "output_type": "stream",
     "text": [
      "              precision    recall  f1-score   support\n",
      "\n",
      "      Defeat       0.45      0.47      0.46       924\n",
      "        Draw       0.47      0.46      0.46       924\n",
      "         Win       0.42      0.41      0.41       924\n",
      "\n",
      "    accuracy                           0.45      2772\n",
      "   macro avg       0.45      0.45      0.45      2772\n",
      "weighted avg       0.45      0.45      0.45      2772\n",
      "\n"
     ]
    }
   ],
   "source": [
    "from sklearn.metrics import classification_report\n",
    "print(classification_report(y_test, y_pred))"
   ]
  },
  {
   "cell_type": "markdown",
   "metadata": {},
   "source": [
    "## 3. K-Nearest Neighbor \n",
    "In this section we will implpement a K-nearest neighbor model."
   ]
  },
  {
   "cell_type": "markdown",
   "metadata": {},
   "source": [
    "## 4. Neural Network \n",
    "In this section we will implpement a Neural Network model."
   ]
  },
  {
   "cell_type": "markdown",
   "metadata": {},
   "source": [
    "## 5. Model Comparison\n",
    "In this section we will compare the results of the three models in sections 1, 2 and 3."
   ]
  },
  {
   "cell_type": "markdown",
   "metadata": {},
   "source": [
    "## 5. Conclusions\n",
    "In this section we will draw conclusions."
   ]
  }
 ],
 "metadata": {
  "kernelspec": {
   "display_name": "Python 3",
   "language": "python",
   "name": "python3"
  },
  "language_info": {
   "codemirror_mode": {
    "name": "ipython",
    "version": 3
   },
   "file_extension": ".py",
   "mimetype": "text/x-python",
   "name": "python",
   "nbconvert_exporter": "python",
   "pygments_lexer": "ipython3",
   "version": "3.7.6"
  }
 },
 "nbformat": 4,
 "nbformat_minor": 4
}
