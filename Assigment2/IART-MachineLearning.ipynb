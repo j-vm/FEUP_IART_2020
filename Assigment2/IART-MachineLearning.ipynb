{
 "cells": [
  {
   "cell_type": "markdown",
   "metadata": {},
   "source": [
    "# Assignment 2 - Machine Learning\n",
    "## FEUP MIEIC - Inteligência Artificial *(EIC0029/IART)*\n",
    "\n"
   ]
  },
  {
   "cell_type": "markdown",
   "metadata": {},
   "source": [
    "## Complete Assignment\n",
    "\n",
    "*This Jupyter Notebook comprises of all the work developed for the 2nd Assignment of the Course Inteligencia Artificial (EIC0029/IART) of Mestrado Integrado em Engenharia Informática e Computação (MIEIC) at Fauldade de Engenharia da Universidade do Porto (FEUP)* \n",
    "\n",
    "## Index\n",
    ">Although this document contains all work developed, in this repository you will also find the partial notebooks used throughout the developent process, devided by the items in this index, reachable through the links embeded in the aforementioned section\n",
    "\n",
    "1. [Data Pre-processing](partials/pre-processing.ipynb)\n",
    "2. [Decision Tree](partials/decision-tree.ipynb)\n",
    "3. [K-Nearest Neighbor](partials/k-kearest-neighbor.ipynb)\n",
    "4. [Neural Network](partials/neural-networl.ipynb)\n",
    "5. [Model Comparison](partials/model-comparison.ipynb)\n",
    "6. [Conclusions](partials/conclusions.ipynb)\n",
    "\n",
    "***"
   ]
  },
  {
   "cell_type": "markdown",
   "metadata": {},
   "source": [
    "## 1. Data Pre-processing \n",
    "In this section we will implpement and document our approach to extract, maipulate, and in essence pre-process the data that will be used to train and test our machine learning models."
   ]
  },
  {
   "cell_type": "markdown",
   "metadata": {},
   "source": [
    "## 2. Desision Tree \n",
    "In this section we will implpement a decision tree model."
   ]
  },
  {
   "cell_type": "markdown",
   "metadata": {},
   "source": [
    "## 3. K-Nearest Neighbor \n",
    "In this section we will implpement a K-nearest neighbor model."
   ]
  },
  {
   "cell_type": "markdown",
   "metadata": {},
   "source": [
    "## 4. Neural Network \n",
    "In this section we will implpement a Neural Network model."
   ]
  },
  {
   "cell_type": "markdown",
   "metadata": {},
   "source": [
    "## 5. Model Comparison\n",
    "In this section we will compare the results of the three models in sections 1, 2 and 3."
   ]
  },
  {
   "cell_type": "markdown",
   "metadata": {},
   "source": [
    "## 5. Conclusions\n",
    "In this section we will draw conclusions."
   ]
  }
 ],
 "metadata": {
  "language_info": {
   "codemirror_mode": {
    "name": "ipython",
    "version": 3
   },
   "file_extension": ".py",
   "mimetype": "text/x-python",
   "name": "python",
   "nbconvert_exporter": "python",
   "pygments_lexer": "ipython3",
   "version": "3.7.2-final"
  },
  "orig_nbformat": 2,
  "kernelspec": {
   "name": "python37232bitacfbff584bcc4ba3be54244eff373588",
   "display_name": "Python 3.7.2 32-bit"
  }
 },
 "nbformat": 4,
 "nbformat_minor": 2
}