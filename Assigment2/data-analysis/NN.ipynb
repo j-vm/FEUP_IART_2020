{
 "cells": [
  {
   "cell_type": "code",
   "execution_count": 2,
   "metadata": {},
   "outputs": [],
   "source": [
    "import numpy as np\n",
    "import pandas as pd\n",
    "import seaborn as sns\n",
    "import matplotlib.pyplot as plt\n",
    "from scipy import stats\n",
    "import sqlite3\n",
    "from sklearn.model_selection import train_test_split\n",
    "from sklearn import preprocessing\n",
    "from sklearn.neural_network import MLPClassifier\n",
    "\n",
    "sns.set(color_codes=True)\n",
    "%matplotlib inline\n",
    "\n",
    "database = \"database.sqlite\"\n",
    "con = sqlite3.connect(database)"
   ]
  },
  {
   "cell_type": "code",
   "execution_count": 3,
   "metadata": {
    "scrolled": true
   },
   "outputs": [],
   "source": [
    "#Get main tables from db\n",
    "countries = pd.read_sql_query(\"SELECT * from Country\", con)\n",
    "matches = pd.read_sql_query(\"SELECT * from Match\", con)\n",
    "leagues = pd.read_sql_query(\"SELECT * from League\", con)\n",
    "teams = pd.read_sql_query(\"SELECT * from Team\", con)\n",
    "teams_att = pd.read_sql_query(\"SELECT * FROM Team_Attributes\", con)\n",
    "player_att = pd.read_sql_query(\"Select * from Player_Attributes\", con)"
   ]
  },
  {
   "cell_type": "code",
   "execution_count": 4,
   "metadata": {},
   "outputs": [
    {
     "output_type": "execute_result",
     "data": {
      "text/plain": "      league_id  overall_rating_home  overall_rating_away  \\\n0          7809                746.0                783.0   \n1          7809                772.0                790.0   \n4          7809                733.0                770.0   \n5          7809                809.0                778.0   \n6          7809                763.0                791.0   \n...         ...                  ...                  ...   \n6536      13274                764.0                772.0   \n6537      19694                772.0                780.0   \n6538      19694                755.0                720.0   \n6539      17642                752.0                779.0   \n6541      13274                737.0                736.0   \n\n      mean_overall_rating_home  mean_overall_rating_away Game Result  \n0                    67.818182                 71.181818        Draw  \n1                    70.181818                 71.818182      Defeat  \n4                    66.636364                 70.000000         Win  \n5                    73.545455                 70.727273      Defeat  \n6                    69.363636                 71.909091         Win  \n...                        ...                       ...         ...  \n6536                 69.454545                 70.181818         Win  \n6537                 70.181818                 70.909091         Win  \n6538                 68.636364                 65.454545      Defeat  \n6539                 68.363636                 70.818182         Win  \n6541                 67.000000                 66.909091         Win  \n\n[5828 rows x 6 columns]",
      "text/html": "<div>\n<style scoped>\n    .dataframe tbody tr th:only-of-type {\n        vertical-align: middle;\n    }\n\n    .dataframe tbody tr th {\n        vertical-align: top;\n    }\n\n    .dataframe thead th {\n        text-align: right;\n    }\n</style>\n<table border=\"1\" class=\"dataframe\">\n  <thead>\n    <tr style=\"text-align: right;\">\n      <th></th>\n      <th>league_id</th>\n      <th>overall_rating_home</th>\n      <th>overall_rating_away</th>\n      <th>mean_overall_rating_home</th>\n      <th>mean_overall_rating_away</th>\n      <th>Game Result</th>\n    </tr>\n  </thead>\n  <tbody>\n    <tr>\n      <th>0</th>\n      <td>7809</td>\n      <td>746.0</td>\n      <td>783.0</td>\n      <td>67.818182</td>\n      <td>71.181818</td>\n      <td>Draw</td>\n    </tr>\n    <tr>\n      <th>1</th>\n      <td>7809</td>\n      <td>772.0</td>\n      <td>790.0</td>\n      <td>70.181818</td>\n      <td>71.818182</td>\n      <td>Defeat</td>\n    </tr>\n    <tr>\n      <th>4</th>\n      <td>7809</td>\n      <td>733.0</td>\n      <td>770.0</td>\n      <td>66.636364</td>\n      <td>70.000000</td>\n      <td>Win</td>\n    </tr>\n    <tr>\n      <th>5</th>\n      <td>7809</td>\n      <td>809.0</td>\n      <td>778.0</td>\n      <td>73.545455</td>\n      <td>70.727273</td>\n      <td>Defeat</td>\n    </tr>\n    <tr>\n      <th>6</th>\n      <td>7809</td>\n      <td>763.0</td>\n      <td>791.0</td>\n      <td>69.363636</td>\n      <td>71.909091</td>\n      <td>Win</td>\n    </tr>\n    <tr>\n      <th>...</th>\n      <td>...</td>\n      <td>...</td>\n      <td>...</td>\n      <td>...</td>\n      <td>...</td>\n      <td>...</td>\n    </tr>\n    <tr>\n      <th>6536</th>\n      <td>13274</td>\n      <td>764.0</td>\n      <td>772.0</td>\n      <td>69.454545</td>\n      <td>70.181818</td>\n      <td>Win</td>\n    </tr>\n    <tr>\n      <th>6537</th>\n      <td>19694</td>\n      <td>772.0</td>\n      <td>780.0</td>\n      <td>70.181818</td>\n      <td>70.909091</td>\n      <td>Win</td>\n    </tr>\n    <tr>\n      <th>6538</th>\n      <td>19694</td>\n      <td>755.0</td>\n      <td>720.0</td>\n      <td>68.636364</td>\n      <td>65.454545</td>\n      <td>Defeat</td>\n    </tr>\n    <tr>\n      <th>6539</th>\n      <td>17642</td>\n      <td>752.0</td>\n      <td>779.0</td>\n      <td>68.363636</td>\n      <td>70.818182</td>\n      <td>Win</td>\n    </tr>\n    <tr>\n      <th>6541</th>\n      <td>13274</td>\n      <td>737.0</td>\n      <td>736.0</td>\n      <td>67.000000</td>\n      <td>66.909091</td>\n      <td>Win</td>\n    </tr>\n  </tbody>\n</table>\n<p>5828 rows × 6 columns</p>\n</div>"
     },
     "metadata": {},
     "execution_count": 4
    }
   ],
   "source": [
    "#Cleaning matches\n",
    "matches_df = pd.read_sql(\"\"\"SELECT * from MATCH\"\"\", con)\n",
    "teams_df = pd.read_sql(\"\"\"SELECT * from TEAM\"\"\", con)\n",
    "player_attributes_df = pd.read_sql(\"\"\"SELECT * from PLAYER_ATTRIBUTES\"\"\", con)\n",
    "\n",
    "matches_df['date'] = pd.to_datetime(matches_df['date'], format='%Y-%m-%d')\n",
    "\n",
    "#Replace team_id for its name to make it easier to analyse.\n",
    "team_id_map = teams_df.set_index('team_api_id').to_dict()['team_long_name']\n",
    "matches_df['home_team_api_id'] = matches_df['home_team_api_id'].map(team_id_map)\n",
    "matches_df['away_team_api_id'] = matches_df['away_team_api_id'].map(team_id_map)\n",
    "\n",
    "#Get class variable\n",
    "matches_df['game_status'] = 0\n",
    "matches_df['game_status'] = np.where(matches_df['home_team_goal'] > matches_df['away_team_goal'] , '1', matches_df['game_status'])\n",
    "matches_df['game_status'] = np.where(matches_df['home_team_goal'] < matches_df['away_team_goal'], '-1', matches_df['game_status'])\n",
    "\n",
    "#Get players info\n",
    "home_players = [\"home_player_\" + str(x) for x in range(1, 12)]\n",
    "away_players = [\"away_player_\" + str(x) for x in range(1, 12)]\n",
    "\n",
    "matches_kept_columns = [\"id\", \"league_id\", \"date\", \"home_team_api_id\", \"away_team_api_id\", \"home_team_goal\", \"away_team_goal\"]\n",
    "matches_kept_columns = matches_kept_columns + home_players\n",
    "matches_kept_columns = matches_kept_columns + away_players\n",
    "\n",
    "matches_df = matches_df[matches_kept_columns]\n",
    "\n",
    "#Get overall ratings for all players from player_attributes table\n",
    "for player in home_players:\n",
    "    matches_df = pd.merge(matches_df, player_attributes_df[[\"id\", \"overall_rating\"]], left_on=[player], right_on=[\"id\"], suffixes=[\"\", \"_\" + player])\n",
    "for player in away_players:\n",
    "    matches_df = pd.merge(matches_df, player_attributes_df[[\"id\", \"overall_rating\"]], left_on=[player], right_on=[\"id\"], suffixes=[\"\", \"_\" + player])\n",
    "    \n",
    "matches_df = matches_df.rename(columns={\"overall_rating\": \"overall_rating_home_player_1\"})\n",
    "\n",
    "matches_df = matches_df[ matches_df[['overall_rating_' + p for p in home_players]].isnull().sum(axis = 1) <= 0]\n",
    "matches_df = matches_df[ matches_df[['overall_rating_' + p for p in away_players]].isnull().sum(axis = 1) <= 0]\n",
    "\n",
    "matches_df['overall_rating_home'] = matches_df[['overall_rating_' + p for p in home_players]].sum(axis=1)\n",
    "matches_df['overall_rating_away'] = matches_df[['overall_rating_' + p for p in away_players]].sum(axis=1)\n",
    "matches_df['overall_rating_difference'] = matches_df['overall_rating_home'] - matches_df['overall_rating_away']\n",
    "\n",
    "matches_df['mean_overall_rating_home'] = matches_df[['overall_rating_' + p for p in home_players]].mean(axis=1)\n",
    "matches_df['mean_overall_rating_away'] = matches_df[['overall_rating_' + p for p in away_players]].mean(axis=1)\n",
    "\n",
    "\n",
    "#Remove all players column because we just need the \"global\" ones\n",
    "for c in matches_df.columns:\n",
    "    if '_player_' in c:\n",
    "        matches_df = matches_df.drop(c, axis=1)\n",
    " \n",
    "#Get goal difference\n",
    "matches_df['goal_diff'] = matches_df['home_team_goal'] - matches_df['away_team_goal']\n",
    "\n",
    "matches_df['Game Result'] = 'Defeat'\n",
    "matches_df['Game Result'] = np.where(matches_df['goal_diff'] == 0, 'Draw', matches_df['Game Result'])\n",
    "matches_df['Game Result'] = np.where(matches_df['goal_diff'] > 0, 'Win', matches_df['Game Result'])\n",
    "\n",
    "matches_df = matches_df.drop(['id', 'date', 'home_team_api_id','away_team_api_id','home_team_goal','away_team_goal','overall_rating_difference', 'goal_diff'], axis=1)\n",
    "matches_df"
   ]
  },
  {
   "cell_type": "code",
   "execution_count": 5,
   "metadata": {},
   "outputs": [
    {
     "output_type": "execute_result",
     "data": {
      "text/plain": "      league_id  overall_rating_home  overall_rating_away  \\\n0          7809                746.0                783.0   \n1          7809                772.0                790.0   \n4          7809                733.0                770.0   \n5          7809                809.0                778.0   \n6          7809                763.0                791.0   \n...         ...                  ...                  ...   \n6536      13274                764.0                772.0   \n6537      19694                772.0                780.0   \n6538      19694                755.0                720.0   \n6539      17642                752.0                779.0   \n6541      13274                737.0                736.0   \n\n      mean_overall_rating_home  mean_overall_rating_away  \n0                    67.818182                 71.181818  \n1                    70.181818                 71.818182  \n4                    66.636364                 70.000000  \n5                    73.545455                 70.727273  \n6                    69.363636                 71.909091  \n...                        ...                       ...  \n6536                 69.454545                 70.181818  \n6537                 70.181818                 70.909091  \n6538                 68.636364                 65.454545  \n6539                 68.363636                 70.818182  \n6541                 67.000000                 66.909091  \n\n[5828 rows x 5 columns]",
      "text/html": "<div>\n<style scoped>\n    .dataframe tbody tr th:only-of-type {\n        vertical-align: middle;\n    }\n\n    .dataframe tbody tr th {\n        vertical-align: top;\n    }\n\n    .dataframe thead th {\n        text-align: right;\n    }\n</style>\n<table border=\"1\" class=\"dataframe\">\n  <thead>\n    <tr style=\"text-align: right;\">\n      <th></th>\n      <th>league_id</th>\n      <th>overall_rating_home</th>\n      <th>overall_rating_away</th>\n      <th>mean_overall_rating_home</th>\n      <th>mean_overall_rating_away</th>\n    </tr>\n  </thead>\n  <tbody>\n    <tr>\n      <th>0</th>\n      <td>7809</td>\n      <td>746.0</td>\n      <td>783.0</td>\n      <td>67.818182</td>\n      <td>71.181818</td>\n    </tr>\n    <tr>\n      <th>1</th>\n      <td>7809</td>\n      <td>772.0</td>\n      <td>790.0</td>\n      <td>70.181818</td>\n      <td>71.818182</td>\n    </tr>\n    <tr>\n      <th>4</th>\n      <td>7809</td>\n      <td>733.0</td>\n      <td>770.0</td>\n      <td>66.636364</td>\n      <td>70.000000</td>\n    </tr>\n    <tr>\n      <th>5</th>\n      <td>7809</td>\n      <td>809.0</td>\n      <td>778.0</td>\n      <td>73.545455</td>\n      <td>70.727273</td>\n    </tr>\n    <tr>\n      <th>6</th>\n      <td>7809</td>\n      <td>763.0</td>\n      <td>791.0</td>\n      <td>69.363636</td>\n      <td>71.909091</td>\n    </tr>\n    <tr>\n      <th>...</th>\n      <td>...</td>\n      <td>...</td>\n      <td>...</td>\n      <td>...</td>\n      <td>...</td>\n    </tr>\n    <tr>\n      <th>6536</th>\n      <td>13274</td>\n      <td>764.0</td>\n      <td>772.0</td>\n      <td>69.454545</td>\n      <td>70.181818</td>\n    </tr>\n    <tr>\n      <th>6537</th>\n      <td>19694</td>\n      <td>772.0</td>\n      <td>780.0</td>\n      <td>70.181818</td>\n      <td>70.909091</td>\n    </tr>\n    <tr>\n      <th>6538</th>\n      <td>19694</td>\n      <td>755.0</td>\n      <td>720.0</td>\n      <td>68.636364</td>\n      <td>65.454545</td>\n    </tr>\n    <tr>\n      <th>6539</th>\n      <td>17642</td>\n      <td>752.0</td>\n      <td>779.0</td>\n      <td>68.363636</td>\n      <td>70.818182</td>\n    </tr>\n    <tr>\n      <th>6541</th>\n      <td>13274</td>\n      <td>737.0</td>\n      <td>736.0</td>\n      <td>67.000000</td>\n      <td>66.909091</td>\n    </tr>\n  </tbody>\n</table>\n<p>5828 rows × 5 columns</p>\n</div>"
     },
     "metadata": {},
     "execution_count": 5
    }
   ],
   "source": [
    "y = matches_df['Game Result']\n",
    "X = matches_df.drop('Game Result', axis=1)\n",
    "X"
   ]
  },
  {
   "cell_type": "code",
   "execution_count": 6,
   "metadata": {},
   "outputs": [],
   "source": [
    "X_train, X_test, y_train, y_test = train_test_split(X, y, \n",
    "                                                    test_size=0.3, \n",
    "                                                    random_state=42, \n",
    "                                                    stratify=y)\n"
   ]
  },
  {
   "cell_type": "code",
   "execution_count": 7,
   "metadata": {},
   "outputs": [
    {
     "output_type": "execute_result",
     "data": {
      "text/plain": "array([[-1.29270982,  0.42944062,  1.54178267,  0.42944062,  1.54178267],\n       [ 1.55241967, -1.8511987 ,  0.31360728, -1.8511987 ,  0.31360728],\n       [ 1.03990761, -0.31766536,  0.63055577, -0.31766536,  0.63055577],\n       ...,\n       [ 1.31123753, -0.94680725,  0.11551448, -0.94680725,  0.11551448],\n       [-1.06422148,  2.31686626, -0.24105257,  2.31686626, -0.24105257],\n       [ 0.06341083, -0.78952178, -1.07304235, -0.78952178, -1.07304235]])"
     },
     "metadata": {},
     "execution_count": 7
    }
   ],
   "source": [
    "scaler = preprocessing.StandardScaler().fit(X_train)\n",
    "X_train_scaled = scaler.transform(X_train)\n",
    "X_train_scaled"
   ]
  },
  {
   "cell_type": "code",
   "execution_count": 30,
   "metadata": {},
   "outputs": [
    {
     "output_type": "execute_result",
     "data": {
      "text/plain": "MLPClassifier(activation='relu', alpha=1e-05, batch_size='auto', beta_1=0.9,\n              beta_2=0.999, early_stopping=False, epsilon=1e-08,\n              hidden_layer_sizes=(20, 15, 10), learning_rate='constant',\n              learning_rate_init=0.001, max_fun=15000, max_iter=200,\n              momentum=0.9, n_iter_no_change=10, nesterovs_momentum=True,\n              power_t=0.5, random_state=1, shuffle=True, solver='lbfgs',\n              tol=0.0001, validation_fraction=0.1, verbose=False,\n              warm_start=False)"
     },
     "metadata": {},
     "execution_count": 30
    }
   ],
   "source": [
    "clf = MLPClassifier(solver='lbfgs', alpha=1e-5,\n",
    "                         hidden_layer_sizes=(15, 10), random_state=1)\n",
    "clf.fit(X_train_scaled, y_train)"
   ]
  },
  {
   "cell_type": "code",
   "execution_count": 31,
   "metadata": {},
   "outputs": [
    {
     "output_type": "stream",
     "name": "stdout",
     "text": "['Win' 'Win' 'Win' 'Win' 'Win' 'Win' 'Win' 'Win' 'Draw' 'Win' 'Win' 'Win'\n 'Win' 'Win' 'Win' 'Win' 'Win' 'Win' 'Win' 'Win' 'Win' 'Win' 'Draw' 'Win'\n 'Win' 'Win' 'Win' 'Win' 'Win' 'Win' 'Win' 'Win' 'Win' 'Win' 'Win' 'Win'\n 'Win' 'Win' 'Win' 'Win' 'Win' 'Win' 'Win' 'Win' 'Win' 'Win' 'Win'\n 'Defeat' 'Win' 'Draw' 'Win' 'Win' 'Win' 'Win' 'Win' 'Defeat' 'Win' 'Win'\n 'Win' 'Win' 'Win' 'Win' 'Win' 'Draw' 'Win' 'Win' 'Win' 'Win' 'Win' 'Win'\n 'Win' 'Win' 'Win' 'Win' 'Win' 'Win' 'Win' 'Win' 'Win' 'Win' 'Draw' 'Win'\n 'Win' 'Draw' 'Win' 'Defeat' 'Win' 'Win' 'Win' 'Win' 'Win' 'Win' 'Win'\n 'Defeat' 'Win' 'Win' 'Draw' 'Win' 'Win' 'Win' 'Win' 'Win' 'Win' 'Win'\n 'Win' 'Draw' 'Win' 'Win' 'Draw' 'Win' 'Draw' 'Win' 'Win' 'Win' 'Win'\n 'Win' 'Win' 'Win' 'Win' 'Win' 'Win' 'Win' 'Win' 'Win' 'Win' 'Win' 'Win'\n 'Win' 'Win' 'Win' 'Draw' 'Win' 'Win' 'Win' 'Win' 'Win' 'Draw' 'Draw'\n 'Win' 'Win' 'Win' 'Win' 'Win' 'Win' 'Win' 'Win' 'Win' 'Win' 'Win' 'Draw'\n 'Defeat' 'Defeat' 'Win' 'Win' 'Win' 'Win' 'Win' 'Draw' 'Win' 'Win' 'Draw'\n 'Win' 'Win' 'Win' 'Win' 'Win' 'Win' 'Win' 'Win' 'Win' 'Win' 'Defeat'\n 'Win' 'Win' 'Win' 'Win' 'Win' 'Win' 'Win' 'Win' 'Win' 'Win' 'Win' 'Win'\n 'Win' 'Win' 'Win' 'Win' 'Win' 'Win' 'Win' 'Win' 'Win' 'Win' 'Win' 'Win'\n 'Win' 'Win' 'Win' 'Win' 'Win' 'Win' 'Win' 'Win' 'Win' 'Win' 'Win' 'Win'\n 'Win' 'Win' 'Win' 'Win' 'Win' 'Win' 'Win' 'Win' 'Win' 'Win' 'Win' 'Win'\n 'Win' 'Draw' 'Win' 'Win' 'Win' 'Win' 'Win' 'Win' 'Win' 'Draw' 'Win' 'Win'\n 'Draw' 'Win' 'Win' 'Win' 'Win' 'Draw' 'Win' 'Win' 'Win' 'Win' 'Win' 'Win'\n 'Win' 'Win' 'Win' 'Win' 'Win' 'Win' 'Draw' 'Win' 'Draw' 'Win' 'Win' 'Win'\n 'Win' 'Win' 'Win' 'Win' 'Win' 'Win' 'Win' 'Win' 'Win' 'Win' 'Win' 'Draw'\n 'Win' 'Win' 'Defeat' 'Win' 'Defeat' 'Win' 'Win' 'Win' 'Draw' 'Win' 'Win'\n 'Win' 'Win' 'Win' 'Win' 'Draw' 'Win' 'Draw' 'Win' 'Win' 'Win' 'Win' 'Win'\n 'Win' 'Win' 'Win' 'Draw' 'Win' 'Draw' 'Draw' 'Win' 'Win' 'Win' 'Win'\n 'Win' 'Win' 'Win' 'Win' 'Win' 'Win' 'Win' 'Win' 'Win' 'Win' 'Win' 'Win'\n 'Win' 'Win' 'Win' 'Win' 'Win' 'Win' 'Win' 'Win' 'Win' 'Draw' 'Win' 'Win'\n 'Win' 'Win' 'Win' 'Win' 'Win' 'Win' 'Win' 'Win' 'Win' 'Win' 'Win' 'Win'\n 'Win' 'Win' 'Win' 'Win' 'Win' 'Win' 'Draw' 'Win' 'Win' 'Win' 'Win' 'Win'\n 'Win' 'Draw' 'Win' 'Draw' 'Win' 'Win' 'Win' 'Defeat' 'Win' 'Win' 'Win'\n 'Win' 'Win' 'Win' 'Win' 'Win' 'Draw' 'Win' 'Win' 'Win' 'Win' 'Win' 'Win'\n 'Win' 'Win' 'Win' 'Draw' 'Win' 'Win' 'Win' 'Win' 'Win' 'Win' 'Draw' 'Win'\n 'Win' 'Win' 'Win' 'Win' 'Win' 'Win' 'Defeat' 'Win' 'Draw' 'Win' 'Win'\n 'Win' 'Win' 'Win' 'Win' 'Win' 'Win' 'Win' 'Draw' 'Win' 'Win' 'Win' 'Win'\n 'Win' 'Win' 'Win' 'Win' 'Win' 'Win' 'Win' 'Win' 'Win' 'Win' 'Win' 'Draw'\n 'Win' 'Win' 'Win' 'Win' 'Draw' 'Win' 'Win' 'Win' 'Win' 'Draw' 'Win' 'Win'\n 'Win' 'Win' 'Win' 'Win' 'Win' 'Win' 'Win' 'Win' 'Win' 'Win' 'Win' 'Win'\n 'Win' 'Win' 'Win' 'Win' 'Win' 'Win' 'Win' 'Win' 'Win' 'Win' 'Win' 'Win'\n 'Win' 'Win' 'Win' 'Win' 'Draw' 'Win' 'Win' 'Defeat' 'Win' 'Draw' 'Win'\n 'Draw' 'Win' 'Win' 'Defeat' 'Win' 'Win' 'Win' 'Win' 'Win' 'Win' 'Win'\n 'Draw' 'Win' 'Draw' 'Win' 'Win' 'Win' 'Win' 'Draw' 'Win' 'Win' 'Win'\n 'Win' 'Win' 'Win' 'Win' 'Win' 'Draw' 'Win' 'Win' 'Win' 'Win' 'Win' 'Win'\n 'Draw' 'Win' 'Win' 'Win' 'Win' 'Win' 'Win' 'Draw' 'Win' 'Win' 'Win' 'Win'\n 'Draw' 'Win' 'Win' 'Draw' 'Win' 'Win' 'Win' 'Win' 'Win' 'Win' 'Win' 'Win'\n 'Win' 'Win' 'Win' 'Defeat' 'Win' 'Win' 'Win' 'Win' 'Win' 'Win' 'Win'\n 'Win' 'Win' 'Win' 'Win' 'Win' 'Win' 'Win' 'Draw' 'Win' 'Win' 'Win' 'Win'\n 'Draw' 'Win' 'Win' 'Win' 'Win' 'Win' 'Win' 'Win' 'Win' 'Win' 'Win' 'Win'\n 'Win' 'Draw' 'Win' 'Win' 'Win' 'Win' 'Win' 'Win' 'Draw' 'Win' 'Win' 'Win'\n 'Win' 'Win' 'Win' 'Win' 'Win' 'Win' 'Win' 'Win' 'Win' 'Win' 'Win' 'Win'\n 'Win' 'Win' 'Win' 'Win' 'Win' 'Win' 'Win' 'Win' 'Win' 'Win' 'Win' 'Win'\n 'Win' 'Win' 'Win' 'Win' 'Win' 'Win' 'Win' 'Win' 'Win' 'Win' 'Win' 'Win'\n 'Draw' 'Win' 'Win' 'Win' 'Win' 'Win' 'Win' 'Win' 'Win' 'Win' 'Win' 'Win'\n 'Win' 'Win' 'Win' 'Draw' 'Win' 'Win' 'Win' 'Draw' 'Win' 'Win' 'Win' 'Win'\n 'Win' 'Win' 'Win' 'Win' 'Win' 'Win' 'Win' 'Win' 'Win' 'Defeat' 'Win'\n 'Win' 'Win' 'Win' 'Defeat' 'Win' 'Win' 'Win' 'Win' 'Win' 'Win' 'Win'\n 'Win' 'Win' 'Defeat' 'Win' 'Draw' 'Win' 'Win' 'Draw' 'Win' 'Win' 'Draw'\n 'Win' 'Win' 'Win' 'Win' 'Win' 'Win' 'Win' 'Win' 'Win' 'Win' 'Win' 'Win'\n 'Win' 'Draw' 'Win' 'Win' 'Win' 'Win' 'Win' 'Win' 'Win' 'Win' 'Win' 'Win'\n 'Win' 'Win' 'Win' 'Win' 'Draw' 'Win' 'Win' 'Win' 'Win' 'Win' 'Win' 'Win'\n 'Win' 'Win' 'Win' 'Win' 'Win' 'Win' 'Win' 'Win' 'Win' 'Win' 'Win' 'Win'\n 'Win' 'Win' 'Win' 'Win' 'Win' 'Win' 'Win' 'Draw' 'Win' 'Defeat' 'Win'\n 'Draw' 'Win' 'Win' 'Win' 'Win' 'Win' 'Win' 'Draw' 'Win' 'Win' 'Win' 'Win'\n 'Win' 'Win' 'Win' 'Win' 'Win' 'Win' 'Draw' 'Draw' 'Win' 'Win' 'Win' 'Win'\n 'Win' 'Win' 'Draw' 'Win' 'Win' 'Win' 'Win' 'Win' 'Win' 'Win' 'Win' 'Win'\n 'Win' 'Win' 'Win' 'Win' 'Win' 'Win' 'Win' 'Draw' 'Win' 'Defeat' 'Win'\n 'Win' 'Win' 'Win' 'Win' 'Win' 'Win' 'Win' 'Win' 'Win' 'Win' 'Draw' 'Win'\n 'Draw' 'Win' 'Win' 'Win' 'Win' 'Win' 'Win' 'Win' 'Win' 'Win' 'Win' 'Win'\n 'Win' 'Win' 'Draw' 'Win' 'Win' 'Win' 'Win' 'Win' 'Win' 'Win' 'Win' 'Win'\n 'Win' 'Defeat' 'Win' 'Win' 'Win' 'Win' 'Draw' 'Win' 'Win' 'Win' 'Win'\n 'Win' 'Win' 'Win' 'Win' 'Win' 'Win' 'Win' 'Win' 'Win' 'Win' 'Win' 'Win'\n 'Win' 'Win' 'Win' 'Win' 'Win' 'Win' 'Win' 'Win' 'Win' 'Win' 'Win' 'Win'\n 'Win' 'Win' 'Win' 'Win' 'Defeat' 'Win' 'Draw' 'Win' 'Draw' 'Draw' 'Draw'\n 'Win' 'Win' 'Win' 'Win' 'Win' 'Win' 'Win' 'Win' 'Win' 'Win' 'Defeat'\n 'Win' 'Defeat' 'Win' 'Win' 'Win' 'Win' 'Win' 'Win' 'Draw' 'Win' 'Win'\n 'Win' 'Win' 'Win' 'Win' 'Win' 'Win' 'Win' 'Win' 'Win' 'Win' 'Win' 'Win'\n 'Win' 'Win' 'Win' 'Win' 'Win' 'Win' 'Win' 'Win' 'Draw' 'Win' 'Win' 'Win'\n 'Win' 'Draw' 'Win' 'Win' 'Win' 'Win' 'Win' 'Win' 'Win' 'Win' 'Win'\n 'Defeat' 'Win' 'Draw' 'Win' 'Win' 'Win' 'Win' 'Win' 'Win' 'Win' 'Win'\n 'Win' 'Win' 'Win' 'Win' 'Win' 'Draw' 'Win' 'Draw' 'Win' 'Win' 'Draw'\n 'Draw' 'Win' 'Win' 'Win' 'Win' 'Win' 'Win' 'Win' 'Win' 'Win' 'Win' 'Win'\n 'Win' 'Win' 'Win' 'Win' 'Win' 'Win' 'Win' 'Win' 'Win' 'Win' 'Win' 'Win'\n 'Win' 'Win' 'Win' 'Win' 'Win' 'Draw' 'Win' 'Win' 'Win' 'Win' 'Win' 'Win'\n 'Win' 'Win' 'Draw' 'Win' 'Win' 'Win' 'Win' 'Win' 'Win' 'Win' 'Win' 'Win'\n 'Draw' 'Win' 'Win' 'Win' 'Defeat' 'Win' 'Win' 'Win' 'Win' 'Win' 'Draw'\n 'Win' 'Win' 'Win' 'Win' 'Win' 'Win' 'Win' 'Win' 'Win' 'Win' 'Win' 'Win'\n 'Win' 'Win' 'Win' 'Win' 'Win' 'Win' 'Win' 'Win' 'Win' 'Win' 'Win' 'Win'\n 'Win' 'Win' 'Defeat' 'Draw' 'Win' 'Win' 'Win' 'Win' 'Win' 'Win' 'Draw'\n 'Win' 'Win' 'Win' 'Win' 'Win' 'Win' 'Win' 'Win' 'Win' 'Win' 'Win' 'Win'\n 'Win' 'Win' 'Win' 'Draw' 'Win' 'Win' 'Win' 'Win' 'Draw' 'Win' 'Win' 'Win'\n 'Win' 'Win' 'Win' 'Win' 'Draw' 'Draw' 'Defeat' 'Win' 'Win' 'Win' 'Win'\n 'Win' 'Win' 'Win' 'Win' 'Win' 'Win' 'Win' 'Win' 'Win' 'Win' 'Draw' 'Win'\n 'Win' 'Draw' 'Win' 'Win' 'Win' 'Win' 'Win' 'Win' 'Win' 'Win' 'Draw' 'Win'\n 'Win' 'Defeat' 'Win' 'Win' 'Draw' 'Win' 'Win' 'Draw' 'Win' 'Win' 'Win'\n 'Win' 'Win' 'Win' 'Win' 'Win' 'Win' 'Win' 'Win' 'Win' 'Win' 'Win' 'Win'\n 'Win' 'Win' 'Win' 'Win' 'Draw' 'Win' 'Win' 'Win' 'Win' 'Win' 'Draw' 'Win'\n 'Draw' 'Win' 'Win' 'Win' 'Win' 'Win' 'Win' 'Win' 'Win' 'Draw' 'Win' 'Win'\n 'Win' 'Draw' 'Win' 'Win' 'Win' 'Draw' 'Win' 'Draw' 'Win' 'Win' 'Win'\n 'Win' 'Win' 'Draw' 'Win' 'Win' 'Win' 'Draw' 'Win' 'Win' 'Win' 'Win' 'Win'\n 'Win' 'Win' 'Win' 'Draw' 'Win' 'Win' 'Win' 'Win' 'Win' 'Win' 'Win' 'Win'\n 'Win' 'Win' 'Win' 'Win' 'Win' 'Win' 'Win' 'Win' 'Win' 'Win' 'Win' 'Win'\n 'Win' 'Win' 'Win' 'Win' 'Win' 'Win' 'Win' 'Win' 'Win' 'Win' 'Win' 'Win'\n 'Win' 'Win' 'Win' 'Win' 'Win' 'Win' 'Win' 'Win' 'Win' 'Win' 'Win' 'Win'\n 'Win' 'Win' 'Win' 'Win' 'Win' 'Draw' 'Win' 'Win' 'Win' 'Win' 'Win' 'Draw'\n 'Win' 'Win' 'Win' 'Win' 'Draw' 'Win' 'Win' 'Draw' 'Win' 'Win' 'Win' 'Win'\n 'Draw' 'Win' 'Defeat' 'Win' 'Win' 'Win' 'Win' 'Win' 'Win' 'Win' 'Win'\n 'Win' 'Win' 'Win' 'Win' 'Win' 'Win' 'Win' 'Win' 'Win' 'Win' 'Win' 'Win'\n 'Win' 'Win' 'Win' 'Win' 'Win' 'Win' 'Win' 'Win' 'Draw' 'Win' 'Win' 'Win'\n 'Win' 'Win' 'Win' 'Draw' 'Win' 'Win' 'Win' 'Win' 'Win' 'Win' 'Win' 'Win'\n 'Win' 'Win' 'Win' 'Win' 'Win' 'Win' 'Draw' 'Win' 'Win' 'Win' 'Win' 'Draw'\n 'Win' 'Win' 'Win' 'Win' 'Win' 'Draw' 'Win' 'Win' 'Win' 'Win' 'Win' 'Win'\n 'Draw' 'Win' 'Win' 'Win' 'Win' 'Win' 'Win' 'Win' 'Win' 'Win' 'Win' 'Draw'\n 'Win' 'Win' 'Draw' 'Win' 'Win' 'Win' 'Win' 'Win' 'Win' 'Win' 'Draw' 'Win'\n 'Win' 'Win' 'Win' 'Win' 'Win' 'Win' 'Win' 'Draw' 'Win' 'Win' 'Win' 'Win'\n 'Win' 'Win' 'Defeat' 'Win' 'Win' 'Win' 'Win' 'Win' 'Win' 'Win' 'Win'\n 'Win' 'Win' 'Win' 'Win' 'Win' 'Win' 'Win' 'Win' 'Win' 'Win' 'Win' 'Draw'\n 'Win' 'Win' 'Win' 'Win' 'Win' 'Win' 'Win' 'Win' 'Win' 'Win' 'Win' 'Win'\n 'Win' 'Draw' 'Win' 'Win' 'Win' 'Win' 'Win' 'Win' 'Win' 'Win' 'Win' 'Win'\n 'Win' 'Win' 'Win' 'Win' 'Win' 'Win' 'Defeat' 'Win' 'Win' 'Win' 'Win'\n 'Win' 'Win' 'Win' 'Win' 'Win' 'Win' 'Draw' 'Win' 'Win' 'Win' 'Win' 'Win'\n 'Win' 'Win' 'Draw' 'Win' 'Win' 'Win' 'Win' 'Draw' 'Win' 'Draw' 'Win'\n 'Win' 'Win' 'Win' 'Win' 'Win' 'Draw' 'Win' 'Win' 'Win' 'Win' 'Win' 'Win'\n 'Win' 'Win' 'Win' 'Win' 'Win' 'Win' 'Win' 'Win' 'Win' 'Win' 'Win' 'Draw'\n 'Defeat' 'Win' 'Win' 'Win' 'Win' 'Win' 'Win' 'Draw' 'Win' 'Draw' 'Win'\n 'Win' 'Win' 'Win' 'Win' 'Win' 'Win' 'Draw' 'Defeat' 'Win' 'Win' 'Defeat'\n 'Win' 'Win' 'Win' 'Win' 'Win' 'Win' 'Draw' 'Win' 'Draw' 'Win' 'Win' 'Win'\n 'Win' 'Win' 'Win' 'Win' 'Draw' 'Win' 'Win' 'Win' 'Win' 'Win' 'Win' 'Win'\n 'Win' 'Win' 'Win' 'Win' 'Win' 'Win' 'Win' 'Defeat' 'Win' 'Win' 'Win'\n 'Win' 'Win' 'Win' 'Win' 'Win' 'Win' 'Win' 'Win' 'Win' 'Win' 'Win' 'Win'\n 'Win' 'Win' 'Win' 'Win' 'Win' 'Win' 'Win' 'Win' 'Win' 'Win' 'Win' 'Win'\n 'Win' 'Win' 'Win' 'Win' 'Draw' 'Win' 'Win' 'Win' 'Defeat' 'Win' 'Win'\n 'Win' 'Win' 'Win' 'Win' 'Win' 'Win' 'Win' 'Win' 'Win' 'Win' 'Win'\n 'Defeat' 'Win' 'Win' 'Win' 'Win' 'Win' 'Win' 'Win' 'Win' 'Draw' 'Win'\n 'Win' 'Win' 'Win' 'Win' 'Win' 'Win' 'Win' 'Win' 'Win' 'Win' 'Win' 'Win'\n 'Win' 'Win' 'Defeat' 'Win' 'Win' 'Win' 'Win' 'Win' 'Win' 'Win' 'Win'\n 'Win' 'Win' 'Win' 'Win' 'Win' 'Win' 'Win' 'Win' 'Win' 'Draw' 'Win' 'Win'\n 'Draw' 'Win' 'Win' 'Win' 'Win' 'Win' 'Win' 'Win' 'Win' 'Win' 'Win' 'Win'\n 'Draw' 'Win' 'Win' 'Win' 'Win' 'Win' 'Win' 'Win' 'Win' 'Win' 'Draw' 'Win'\n 'Win' 'Defeat' 'Win' 'Win' 'Win' 'Win' 'Win' 'Win' 'Win' 'Win' 'Win'\n 'Draw' 'Win' 'Win' 'Win' 'Win' 'Win' 'Win' 'Win' 'Win' 'Win' 'Win' 'Win'\n 'Win' 'Win' 'Draw' 'Win' 'Draw' 'Win' 'Win' 'Win' 'Draw' 'Win' 'Win'\n 'Win' 'Win' 'Win' 'Win' 'Win' 'Win' 'Win' 'Win' 'Win' 'Win' 'Win' 'Draw'\n 'Win' 'Win' 'Win' 'Win' 'Draw' 'Draw' 'Win' 'Win' 'Defeat' 'Draw' 'Win'\n 'Win' 'Win' 'Draw' 'Win' 'Win' 'Win' 'Win' 'Draw' 'Draw' 'Win' 'Win'\n 'Win' 'Win' 'Win' 'Win' 'Draw' 'Win' 'Win' 'Win' 'Win' 'Win' 'Draw' 'Win'\n 'Win' 'Win' 'Win' 'Win' 'Win' 'Win' 'Win' 'Win' 'Win' 'Win' 'Win' 'Win'\n 'Draw' 'Draw' 'Draw' 'Win' 'Win' 'Win' 'Win' 'Win' 'Win' 'Win' 'Win'\n 'Win' 'Win' 'Win' 'Win' 'Win' 'Win' 'Win' 'Win' 'Draw' 'Win' 'Win' 'Win'\n 'Win' 'Win' 'Win' 'Win' 'Win' 'Draw' 'Defeat' 'Win' 'Win' 'Win' 'Win'\n 'Win' 'Win' 'Win' 'Win' 'Win' 'Win' 'Win' 'Win' 'Win' 'Win' 'Win']\n"
    }
   ],
   "source": [
    "x=clf.predict(scaler.transform(X_test))\n",
    "np.set_printoptions(threshold=sys.maxsize)\n",
    "print(x)"
   ]
  },
  {
   "cell_type": "code",
   "execution_count": 32,
   "metadata": {},
   "outputs": [
    {
     "output_type": "execute_result",
     "data": {
      "text/plain": "0.444253859348199"
     },
     "metadata": {},
     "execution_count": 32
    }
   ],
   "source": [
    "from sklearn.metrics import accuracy_score\n",
    "\n",
    "accuracy_score(y_test, x)"
   ]
  },
  {
   "cell_type": "code",
   "execution_count": 22,
   "metadata": {},
   "outputs": [
    {
     "output_type": "execute_result",
     "data": {
      "text/plain": ", 0.00000000e+000],\n       [3.83368045e-028, 1.00000000e+000, 8.14012119e-201],\n       [0.00000000e+000, 1.00000000e+000, 0.00000000e+000],\n       [3.73477536e-007, 9.99999627e-001, 5.76815632e-097],\n       [0.00000000e+000, 1.00000000e+000, 0.00000000e+000],\n       [3.34642980e-007, 9.99999665e-001, 1.88791069e-096],\n       [0.00000000e+000, 1.00000000e+000, 0.00000000e+000],\n       [0.00000000e+000, 1.00000000e+000, 0.00000000e+000],\n       [1.38147479e-006, 9.99998619e-001, 4.50454865e-087],\n       [0.00000000e+000, 1.00000000e+000, 0.00000000e+000],\n       [0.00000000e+000, 1.00000000e+000, 0.00000000e+000],\n       [0.00000000e+000, 1.00000000e+000, 0.00000000e+000],\n       [1.05744834e-011, 1.00000000e+000, 4.87954031e-199],\n       [1.63274078e-022, 1.00000000e+000, 1.05311747e-223],\n       [0.00000000e+000, 1.00000000e+000, 0.00000000e+000],\n       [0.00000000e+000, 1.00000000e+000, 0.00000000e+000],\n       [2.17542883e-032, 1.00000000e+000, 9.29574667e-212],\n       [8.02906274e-026, 1.00000000e+000, 2.38653058e-206],\n       [0.00000000e+000, 1.00000000e+000, 0.00000000e+000],\n       [0.00000000e+000, 1.00000000e+000, 0.00000000e+000],\n       [0.00000000e+000, 1.00000000e+000, 0.00000000e+000],\n       [5.59061671e-021, 1.00000000e+000, 3.66052402e-210],\n       [0.00000000e+000, 1.00000000e+000, 0.00000000e+000],\n       [0.00000000e+000, 1.00000000e+000, 0.00000000e+000],\n       [0.00000000e+000, 1.00000000e+000, 0.00000000e+000],\n       [0.00000000e+000, 1.00000000e+000, 0.00000000e+000],\n       [1.76019573e-019, 1.00000000e+000, 1.06209496e-214],\n       [0.00000000e+000, 1.00000000e+000, 0.00000000e+000],\n       [0.00000000e+000, 1.00000000e+000, 0.00000000e+000],\n       [0.00000000e+000, 1.00000000e+000, 0.00000000e+000],\n       [0.00000000e+000, 1.00000000e+000, 0.00000000e+000],\n       [0.00000000e+000, 1.00000000e+000, 0.00000000e+000],\n       [0.00000000e+000, 1.00000000e+000, 0.00000000e+000],\n       [0.00000000e+000, 1.00000000e+000, 0.00000000e+000],\n       [0.00000000e+000, 1.00000000e+000, 0.00000000e+000],\n       [0.00000000e+000, 1.00000000e+000, 0.00000000e+000],\n       [2.93756384e-016, 1.00000000e+000, 5.15810173e-210],\n       [0.00000000e+000, 1.00000000e+000, 0.00000000e+000],\n       [0.00000000e+000, 1.00000000e+000, 0.00000000e+000],\n       [2.92051030e-035, 1.00000000e+000, 5.83177742e-215],\n       [0.00000000e+000, 1.00000000e+000, 0.00000000e+000],\n       [3.12131840e-030, 1.00000000e+000, 1.82962791e-206],\n       [1.86249775e-034, 1.00000000e+000, 2.86908973e-194],\n       [0.00000000e+000, 1.00000000e+000, 0.00000000e+000],\n       [0.00000000e+000, 1.00000000e+000, 0.00000000e+000],\n       [2.54171275e-034, 1.00000000e+000, 5.61519625e-195],\n       [1.04676307e-029, 1.00000000e+000, 3.07700073e-204],\n       [0.00000000e+000, 1.00000000e+000, 0.00000000e+000],\n       [0.00000000e+000, 1.00000000e+000, 0.00000000e+000],\n       [6.01190365e-030, 1.00000000e+000, 6.11396302e-213],\n       [0.00000000e+000, 1.00000000e+000, 0.00000000e+000],\n       [0.00000000e+000, 1.00000000e+000, 0.00000000e+000],\n       [6.90945249e-034, 1.00000000e+000, 3.20379111e-207],\n       [0.00000000e+000, 1.00000000e+000, 0.00000000e+000],\n       [3.32440580e-030, 1.00000000e+000, 2.86993713e-208],\n       [0.00000000e+000, 1.00000000e+000, 0.00000000e+000],\n       [3.80928616e-011, 1.00000000e+000, 3.03045457e-215],\n       [0.00000000e+000, 1.00000000e+000, 0.00000000e+000],\n       [6.45219236e-024, 1.00000000e+000, 2.51870171e-221],\n       [0.00000000e+000, 1.00000000e+000, 0.00000000e+000],\n       [0.00000000e+000, 1.00000000e+000, 0.00000000e+000],\n       [0.00000000e+000, 1.00000000e+000, 0.00000000e+000],\n       [0.00000000e+000, 1.00000000e+000, 0.00000000e+000],\n       [0.00000000e+000, 1.00000000e+000, 0.00000000e+000],\n       [0.00000000e+000, 1.00000000e+000, 0.00000000e+000],\n       [0.00000000e+000, 1.00000000e+000, 0.00000000e+000],\n       [1.33269519e-012, 1.00000000e+000, 1.42927471e-217],\n       [0.00000000e+000, 1.00000000e+000, 0.00000000e+000],\n       [0.00000000e+000, 1.00000000e+000, 0.00000000e+000],\n       [0.00000000e+000, 1.00000000e+000, 0.00000000e+000],\n       [0.00000000e+000, 1.00000000e+000, 0.00000000e+000],\n       [0.00000000e+000, 1.00000000e+000, 0.00000000e+000],\n       [0.00000000e+000, 1.00000000e+000, 0.00000000e+000],\n       [0.00000000e+000, 1.00000000e+000, 0.00000000e+000],\n       [0.00000000e+000, 1.00000000e+000, 0.00000000e+000],\n       [0.00000000e+000, 1.00000000e+000, 0.00000000e+000],\n       [0.00000000e+000, 1.00000000e+000, 0.00000000e+000],\n       [4.27371859e-023, 1.00000000e+000, 5.24524238e-214],\n       [0.00000000e+000, 1.00000000e+000, 0.00000000e+000],\n       [8.97099282e-007, 9.99999103e-001, 1.65035026e-090],\n       [0.00000000e+000, 1.00000000e+000, 0.00000000e+000],\n       [0.00000000e+000, 1.00000000e+000, 0.00000000e+000],\n       [0.00000000e+000, 1.00000000e+000, 0.00000000e+000],\n       [0.00000000e+000, 1.00000000e+000, 0.00000000e+000],\n       [4.35509607e-007, 9.99999564e-001, 5.02660527e-096],\n       [0.00000000e+000, 1.00000000e+000, 0.00000000e+000],\n       [0.00000000e+000, 1.00000000e+000, 0.00000000e+000],\n       [3.93437704e-033, 1.00000000e+000, 7.31761965e-208],\n       [0.00000000e+000, 1.00000000e+000, 0.00000000e+000],\n       [0.00000000e+000, 1.00000000e+000, 0.00000000e+000],\n       [4.51712952e-029, 1.00000000e+000, 3.13278682e-209],\n       [0.00000000e+000, 1.00000000e+000, 0.00000000e+000],\n       [0.00000000e+000, 1.00000000e+000, 0.00000000e+000],\n       [0.00000000e+000, 1.00000000e+000, 0.00000000e+000],\n       [0.00000000e+000, 1.00000000e+000, 0.00000000e+000],\n       [0.00000000e+000, 1.00000000e+000, 0.00000000e+000],\n       [0.00000000e+000, 1.00000000e+000, 0.00000000e+000],\n       [3.25339025e-026, 1.00000000e+000, 5.72394919e-201],\n       [0.00000000e+000, 1.00000000e+000, 0.00000000e+000],\n       [0.00000000e+000, 1.00000000e+000, 0.00000000e+000],\n       [0.00000000e+000, 1.00000000e+000, 0.00000000e+000],\n       [4.25927485e-029, 1.00000000e+000, 9.69055070e-216],\n       [0.00000000e+000, 1.00000000e+000, 0.00000000e+000],\n       [0.00000000e+000, 1.00000000e+000, 0.00000000e+000],\n       [2.07659594e-031, 1.00000000e+000, 2.52434714e-190],\n       [0.00000000e+000, 1.00000000e+000, 0.00000000e+000],\n       [0.00000000e+000, 1.00000000e+000, 0.00000000e+000],\n       [0.00000000e+000, 1.00000000e+000, 0.00000000e+000],\n       [0.00000000e+000, 1.00000000e+000, 0.00000000e+000],\n       [0.00000000e+000, 1.00000000e+000, 0.00000000e+000],\n       [2.03850567e-017, 1.00000000e+000, 1.46166907e-215],\n       [0.00000000e+000, 1.00000000e+000, 0.00000000e+000],\n       [0.00000000e+000, 1.00000000e+000, 0.00000000e+000],\n       [0.00000000e+000, 1.00000000e+000, 0.00000000e+000],\n       [0.00000000e+000, 1.00000000e+000, 0.00000000e+000],\n       [0.00000000e+000, 1.00000000e+000, 0.00000000e+000],\n       [0.00000000e+000, 1.00000000e+000, 0.00000000e+000],\n       [0.00000000e+000, 1.00000000e+000, 0.00000000e+000],\n       [0.00000000e+000, 1.00000000e+000, 0.00000000e+000],\n       [8.05629031e-020, 1.00000000e+000, 1.29176677e-204],\n       [0.00000000e+000, 1.00000000e+000, 0.00000000e+000],\n       [2.35078983e-015, 1.00000000e+000, 4.14579234e-208],\n       [0.00000000e+000, 1.00000000e+000, 0.00000000e+000],\n       [4.60733347e-020, 1.00000000e+000, 5.28995644e-205],\n       [0.00000000e+000, 1.00000000e+000, 0.00000000e+000],\n       [0.00000000e+000, 1.00000000e+000, 0.00000000e+000],\n       [1.02779775e-018, 1.00000000e+000, 8.98944670e-204],\n       [0.00000000e+000, 1.00000000e+000, 0.00000000e+000],\n       [0.00000000e+000, 1.00000000e+000, 0.00000000e+000],\n       [0.00000000e+000, 1.00000000e+000, 0.00000000e+000],\n       [0.00000000e+000, 1.00000000e+000, 0.00000000e+000],\n       [3.19420155e-014, 1.00000000e+000, 4.52549412e-209],\n       [0.00000000e+000, 1.00000000e+000, 0.00000000e+000],\n       [7.17066654e-029, 1.00000000e+000, 5.59029642e-202],\n       [0.00000000e+000, 1.00000000e+000, 0.00000000e+000],\n       [0.00000000e+000, 1.00000000e+000, 0.00000000e+000],\n       [1.39789275e-003, 9.98602107e-001, 4.33331871e-210],\n       [0.00000000e+000, 1.00000000e+000, 0.00000000e+000],\n       [0.00000000e+000, 1.00000000e+000, 0.00000000e+000],\n       [1.26466723e-029, 1.00000000e+000, 1.18756234e-209],\n       [0.00000000e+000, 1.00000000e+000, 0.00000000e+000],\n       [0.00000000e+000, 1.00000000e+000, 0.00000000e+000],\n       [0.00000000e+000, 1.00000000e+000, 0.00000000e+000],\n       [4.85291736e-031, 1.00000000e+000, 1.57966555e-210],\n       [0.00000000e+000, 1.00000000e+000, 0.00000000e+000],\n       [0.00000000e+000, 1.00000000e+000, 0.00000000e+000],\n       [6.55929661e-022, 1.00000000e+000, 2.90346111e-210],\n       [0.00000000e+000, 1.00000000e+000, 0.00000000e+000],\n       [0.00000000e+000, 1.00000000e+000, 0.00000000e+000],\n       [0.00000000e+000, 1.00000000e+000, 0.00000000e+000],\n       [0.00000000e+000, 1.00000000e+000, 0.00000000e+000],\n       [6.48120466e-027, 1.00000000e+000, 6.16608265e-204],\n       [0.00000000e+000, 1.00000000e+000, 0.00000000e+000],\n       [2.33289110e-021, 1.00000000e+000, 1.57856773e-201],\n       [0.00000000e+000, 1.00000000e+000, 0.00000000e+000],\n       [0.00000000e+000, 1.00000000e+000, 0.00000000e+000],\n       [0.00000000e+000, 1.00000000e+000, 0.00000000e+000],\n       [0.00000000e+000, 1.00000000e+000, 0.00000000e+000],\n       [0.00000000e+000, 1.00000000e+000, 0.00000000e+000],\n       [0.00000000e+000, 1.00000000e+000, 0.00000000e+000],\n       [0.00000000e+000, 1.00000000e+000, 0.00000000e+000],\n       [0.00000000e+000, 1.00000000e+000, 0.00000000e+000],\n       [0.00000000e+000, 1.00000000e+000, 0.00000000e+000],\n       [0.00000000e+000, 1.00000000e+000, 0.00000000e+000],\n       [1.23765157e-025, 1.00000000e+000, 2.36853498e-202],\n       [0.00000000e+000, 1.00000000e+000, 0.00000000e+000],\n       [0.00000000e+000, 1.00000000e+000, 0.00000000e+000],\n       [0.00000000e+000, 1.00000000e+000, 0.00000000e+000],\n       [9.53302697e-021, 1.00000000e+000, 2.41218882e-221],\n       [1.74500457e-017, 1.00000000e+000, 3.30398946e-215],\n       [0.00000000e+000, 1.00000000e+000, 0.00000000e+000],\n       [0.00000000e+000, 1.00000000e+000, 0.00000000e+000],\n       [0.00000000e+000, 1.00000000e+000, 0.00000000e+000],\n       [0.00000000e+000, 1.00000000e+000, 0.00000000e+000],\n       [0.00000000e+000, 1.00000000e+000, 0.00000000e+000],\n       [0.00000000e+000, 1.00000000e+000, 0.00000000e+000],\n       [7.38340571e-027, 1.00000000e+000, 7.36132129e-216],\n       [0.00000000e+000, 1.00000000e+000, 0.00000000e+000],\n       [0.00000000e+000, 1.00000000e+000, 0.00000000e+000],\n       [0.00000000e+000, 1.00000000e+000, 0.00000000e+000],\n       [0.00000000e+000, 1.00000000e+000, 0.00000000e+000],\n       [6.36933119e-022, 1.00000000e+000, 1.61482261e-213],\n       [2.86759631e-024, 1.00000000e+000, 1.70375170e-214],\n       [0.00000000e+000, 1.00000000e+000, 0.00000000e+000],\n       [0.00000000e+000, 1.00000000e+000, 0.00000000e+000],\n       [1.00847763e-032, 1.00000000e+000, 1.29147707e-226],\n       [0.00000000e+000, 1.00000000e+000, 0.00000000e+000],\n       [0.00000000e+000, 1.00000000e+000, 0.00000000e+000],\n       [0.00000000e+000, 1.00000000e+000, 0.00000000e+000],\n       [0.00000000e+000, 1.00000000e+000, 0.00000000e+000],\n       [4.14590143e-007, 9.99999585e-001, 1.99768310e-095],\n       [3.44655224e-017, 1.00000000e+000, 4.09131253e-210],\n       [0.00000000e+000, 1.00000000e+000, 0.00000000e+000],\n       [0.00000000e+000, 1.00000000e+000, 0.00000000e+000],\n       [0.00000000e+000, 1.00000000e+000, 0.00000000e+000],\n       [2.86465915e-016, 1.00000000e+000, 1.39195736e-221],\n       [0.00000000e+000, 1.00000000e+000, 0.00000000e+000],\n       [0.00000000e+000, 1.00000000e+000, 0.00000000e+000],\n       [0.00000000e+000, 1.00000000e+000, 0.00000000e+000],\n       [0.00000000e+000, 1.00000000e+000, 0.00000000e+000],\n       [4.70826211e-025, 1.00000000e+000, 9.80085212e-204],\n       [3.19723278e-021, 1.00000000e+000, 1.49903319e-210],\n       [0.00000000e+000, 1.00000000e+000, 0.00000000e+000],\n       [0.00000000e+000, 1.00000000e+000, 0.00000000e+000],\n       [0.00000000e+000, 1.00000000e+000, 0.00000000e+000],\n       [1.37050623e-033, 1.00000000e+000, 1.92493210e-210],\n       [0.00000000e+000, 1.00000000e+000, 0.00000000e+000],\n       [0.00000000e+000, 1.00000000e+000, 0.00000000e+000],\n       [0.00000000e+000, 1.00000000e+000, 0.00000000e+000],\n       [0.00000000e+000, 1.00000000e+000, 0.00000000e+000],\n       [0.00000000e+000, 1.00000000e+000, 0.00000000e+000],\n       [0.00000000e+000, 1.00000000e+000, 0.00000000e+000],\n       [0.00000000e+000, 1.00000000e+000, 0.00000000e+000],\n       [0.00000000e+000, 1.00000000e+000, 0.00000000e+000],\n       [0.00000000e+000, 1.00000000e+000, 0.00000000e+000],\n       [0.00000000e+000, 1.00000000e+000, 0.00000000e+000],\n       [0.00000000e+000, 1.00000000e+000, 0.00000000e+000],\n       [0.00000000e+000, 1.00000000e+000, 0.00000000e+000],\n       [0.00000000e+000, 1.00000000e+000, 0.00000000e+000],\n       [0.00000000e+000, 1.00000000e+000, 0.00000000e+000],\n       [0.00000000e+000, 1.00000000e+000, 0.00000000e+000],\n       [0.00000000e+000, 1.00000000e+000, 0.00000000e+000],\n       [8.04865230e-013, 1.00000000e+000, 3.89976882e-203],\n       [3.65492632e-016, 1.00000000e+000, 3.57939736e-212],\n       [0.00000000e+000, 1.00000000e+000, 0.00000000e+000],\n       [0.00000000e+000, 1.00000000e+000, 0.00000000e+000],\n       [0.00000000e+000, 1.00000000e+000, 0.00000000e+000],\n       [0.00000000e+000, 1.00000000e+000, 0.00000000e+000],\n       [0.00000000e+000, 1.00000000e+000, 0.00000000e+000],\n       [0.00000000e+000, 1.00000000e+000, 0.00000000e+000],\n       [0.00000000e+000, 1.00000000e+000, 0.00000000e+000],\n       [0.00000000e+000, 1.00000000e+000, 0.00000000e+000],\n       [0.00000000e+000, 1.00000000e+000, 0.00000000e+000],\n       [0.00000000e+000, 1.00000000e+000, 0.00000000e+000],\n       [0.00000000e+000, 1.00000000e+000, 0.00000000e+000],\n       [0.00000000e+000, 1.00000000e+000, 0.00000000e+000],\n       [0.00000000e+000, 1.00000000e+000, 0.00000000e+000],\n       [0.00000000e+000, 1.00000000e+000, 0.00000000e+000],\n       [0.00000000e+000, 1.00000000e+000, 0.00000000e+000],\n       [0.00000000e+000, 1.00000000e+000, 0.00000000e+000],\n       [0.00000000e+000, 1.00000000e+000, 0.00000000e+000],\n       [0.00000000e+000, 1.00000000e+000, 0.00000000e+000],\n       [0.00000000e+000, 1.00000000e+000, 0.00000000e+000],\n       [0.00000000e+000, 1.00000000e+000, 0.00000000e+000],\n       [8.30380939e-026, 1.00000000e+000, 2.08202249e-211],\n       [0.00000000e+000, 1.00000000e+000, 0.00000000e+000],\n       [4.07673403e-047, 1.00000000e+000, 7.00452572e-216],\n       [0.00000000e+000, 1.00000000e+000, 0.00000000e+000],\n       [0.00000000e+000, 1.00000000e+000, 0.00000000e+000],\n       [0.00000000e+000, 1.00000000e+000, 0.00000000e+000],\n       [0.00000000e+000, 1.00000000e+000, 0.00000000e+000],\n       [1.17562818e-015, 1.00000000e+000, 7.13888747e-235],\n       [4.29668164e-032, 1.00000000e+000, 1.15108735e-206],\n       [0.00000000e+000, 1.00000000e+000, 0.00000000e+000],\n       [0.00000000e+000, 1.00000000e+000, 0.00000000e+000],\n       [1.68874033e-023, 1.00000000e+000, 3.39492634e-220],\n       [0.00000000e+000, 1.00000000e+000, 0.00000000e+000],\n       [0.00000000e+000, 1.00000000e+000, 0.00000000e+000],\n       [0.00000000e+000, 1.00000000e+000, 0.00000000e+000],\n       [0.00000000e+000, 1.00000000e+000, 0.00000000e+000],\n       [0.00000000e+000, 1.00000000e+000, 0.00000000e+000],\n       [0.00000000e+000, 1.00000000e+000, 0.00000000e+000],\n       [0.00000000e+000, 1.00000000e+000, 0.00000000e+000],\n       [0.00000000e+000, 1.00000000e+000, 0.00000000e+000],\n       [0.00000000e+000, 1.00000000e+000, 0.00000000e+000],\n       [0.00000000e+000, 1.00000000e+000, 0.00000000e+000],\n       [0.00000000e+000, 1.00000000e+000, 0.00000000e+000],\n       [0.00000000e+000, 1.00000000e+000, 0.00000000e+000],\n       [0.00000000e+000, 1.00000000e+000, 0.00000000e+000],\n       [3.77079421e-029, 1.00000000e+000, 1.91098143e-220],\n       [3.36471807e-026, 1.00000000e+000, 4.99360497e-206],\n       [2.30039713e-010, 1.00000000e+000, 2.23766879e-209],\n       [0.00000000e+000, 1.00000000e+000, 0.00000000e+000],\n       [0.00000000e+000, 1.00000000e+000, 0.00000000e+000],\n       [5.15359056e-009, 9.99999995e-001, 1.84503194e-216],\n       [0.00000000e+000, 1.00000000e+000, 0.00000000e+000],\n       [0.00000000e+000, 1.00000000e+000, 0.00000000e+000],\n       [8.30380939e-026, 1.00000000e+000, 2.08202249e-211],\n       [0.00000000e+000, 1.00000000e+000, 0.00000000e+000],\n       [0.00000000e+000, 1.00000000e+000, 0.00000000e+000],\n       [0.00000000e+000, 1.00000000e+000, 0.00000000e+000],\n       [7.10878096e-027, 1.00000000e+000, 1.73904228e-202],\n       [3.91394713e-026, 1.00000000e+000, 4.55299703e-198],\n       [0.00000000e+000, 1.00000000e+000, 0.00000000e+000],\n       [0.00000000e+000, 1.00000000e+000, 0.00000000e+000],\n       [0.00000000e+000, 1.00000000e+000, 0.00000000e+000],\n       [1.39172299e-022, 1.00000000e+000, 4.90613157e-215],\n       [0.00000000e+000, 1.00000000e+000, 0.00000000e+000],\n       [7.34450609e-019, 1.00000000e+000, 1.23950471e-214],\n       [0.00000000e+000, 1.00000000e+000, 0.00000000e+000],\n       [0.00000000e+000, 1.00000000e+000, 0.00000000e+000],\n       [0.00000000e+000, 1.00000000e+000, 0.00000000e+000],\n       [0.00000000e+000, 1.00000000e+000, 0.00000000e+000],\n       [0.00000000e+000, 1.00000000e+000, 0.00000000e+000],\n       [0.00000000e+000, 1.00000000e+000, 0.00000000e+000],\n       [0.00000000e+000, 1.00000000e+000, 0.00000000e+000],\n       [5.47077347e-016, 1.00000000e+000, 1.97574786e-211],\n       [0.00000000e+000, 1.00000000e+000, 0.00000000e+000],\n       [0.00000000e+000, 1.00000000e+000, 0.00000000e+000],\n       [0.00000000e+000, 1.00000000e+000, 0.00000000e+000],\n       [0.00000000e+000, 1.00000000e+000, 0.00000000e+000],\n       [0.00000000e+000, 1.00000000e+000, 0.00000000e+000],\n       [0.00000000e+000, 1.00000000e+000, 0.00000000e+000],\n       [1.72259465e-015, 1.00000000e+000, 2.11829644e-207],\n       [0.00000000e+000, 1.00000000e+000, 0.00000000e+000],\n       [0.00000000e+000, 1.00000000e+000, 0.00000000e+000],\n       [0.00000000e+000, 1.00000000e+000, 0.00000000e+000],\n       [0.00000000e+000, 1.00000000e+000, 0.00000000e+000],\n       [4.35939419e-015, 1.00000000e+000, 3.27281865e-201],\n       [1.55992308e-027, 1.00000000e+000, 2.56360866e-212],\n       [0.00000000e+000, 1.00000000e+000, 0.00000000e+000],\n       [2.74209682e-035, 1.00000000e+000, 3.71784547e-213],\n       [0.00000000e+000, 1.00000000e+000, 0.00000000e+000],\n       [0.00000000e+000, 1.00000000e+000, 0.00000000e+000],\n       [0.00000000e+000, 1.00000000e+000, 0.00000000e+000],\n       [0.00000000e+000, 1.00000000e+000, 0.00000000e+000],\n       [0.00000000e+000, 1.00000000e+000, 0.00000000e+000],\n       [4.78715420e-007, 9.99999521e-001, 6.85898346e-094],\n       [3.27885137e-022, 1.00000000e+000, 2.05262848e-190],\n       [0.00000000e+000, 1.00000000e+000, 0.00000000e+000],\n       [0.00000000e+000, 1.00000000e+000, 0.00000000e+000],\n       [0.00000000e+000, 1.00000000e+000, 0.00000000e+000],\n       [0.00000000e+000, 1.00000000e+000, 0.00000000e+000],\n       [0.00000000e+000, 1.00000000e+000, 0.00000000e+000],\n       [0.00000000e+000, 1.00000000e+000, 0.00000000e+000],\n       [0.00000000e+000, 1.00000000e+000, 0.00000000e+000],\n       [0.00000000e+000, 1.00000000e+000, 0.00000000e+000],\n       [0.00000000e+000, 1.00000000e+000, 0.00000000e+000],\n       [0.00000000e+000, 1.00000000e+000, 0.00000000e+000],\n       [3.43490404e-023, 1.00000000e+000, 7.55867290e-212],\n       [0.00000000e+000, 1.00000000e+000, 0.00000000e+000],\n       [0.00000000e+000, 1.00000000e+000, 0.00000000e+000],\n       [0.00000000e+000, 1.00000000e+000, 0.00000000e+000],\n       [8.54257891e-007, 9.99999146e-001, 4.42286566e-091]])"
     },
     "metadata": {},
     "execution_count": 22
    }
   ],
   "source": [
    "clf.predict_proba(X_test)"
   ]
  },
  {
   "cell_type": "code",
   "execution_count": null,
   "metadata": {},
   "outputs": [],
   "source": []
  }
 ],
 "metadata": {
  "kernelspec": {
   "display_name": "Python 3.7.2 32-bit",
   "language": "python",
   "name": "python37232bitacfbff584bcc4ba3be54244eff373588"
  },
  "language_info": {
   "codemirror_mode": {
    "name": "ipython",
    "version": 3
   },
   "file_extension": ".py",
   "mimetype": "text/x-python",
   "name": "python",
   "nbconvert_exporter": "python",
   "pygments_lexer": "ipython3",
   "version": "3.7.2-final"
  }
 },
 "nbformat": 4,
 "nbformat_minor": 4
}