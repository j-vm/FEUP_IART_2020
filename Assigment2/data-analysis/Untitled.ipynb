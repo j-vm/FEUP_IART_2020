{
 "cells": [
  {
   "cell_type": "code",
   "execution_count": 23,
   "metadata": {},
   "outputs": [],
   "source": [
    "import sqlite3\n",
    "import pandas as pd\n",
    "import numpy as np\n",
    "import matplotlib.pyplot as plt\n",
    "%matplotlib inline\n",
    "import seaborn as sns\n",
    "sns.set()\n",
    "pd.set_option('display.max_columns', None)\n"
   ]
  },
  {
   "cell_type": "code",
   "execution_count": 24,
   "metadata": {},
   "outputs": [],
   "source": [
    "#Conexao a db\n",
    "database = 'database.sqlite'\n",
    "con = sqlite3.connect(database)"
   ]
  },
  {
   "cell_type": "code",
   "execution_count": 25,
   "metadata": {},
   "outputs": [],
   "source": [
    "#Get main tables from db\n",
    "countries = pd.read_sql_query(\"SELECT * from Country\", con)\n",
    "matches = pd.read_sql_query(\"SELECT * from Match\", con)\n",
    "leagues = pd.read_sql_query(\"SELECT * from League\", con)\n",
    "teams = pd.read_sql_query(\"SELECT * from Team\", con)\n",
    "teams_att = pd.read_sql_query(\"SELECT * FROM Team_Attributes\", con)\n",
    "player_att = pd.read_sql_query(\"Select * from Player_Attributes\", con)"
   ]
  },
  {
   "cell_type": "code",
   "execution_count": 26,
   "metadata": {},
   "outputs": [],
   "source": [
    "#Replace league_id for its name to make it easier to analyse the data.\n",
    "league_id_map = leagues.set_index('id').to_dict()['name']\n",
    "matches['league_id'] = matches['league_id'].map(league_id_map)\n",
    "\n",
    "#Replace country_id for its name.\n",
    "country_id_map = countries.set_index('id').to_dict()['name']\n",
    "matches['country_id'] = matches['country_id'].map(country_id_map)\n",
    "\n",
    "#Replace team_id for its name.\n",
    "team_id_map = teams.set_index('team_api_id').to_dict()['team_long_name']\n",
    "matches['home_team_api_id'] = matches['home_team_api_id'].map(team_id_map)\n",
    "matches['away_team_api_id'] = matches['away_team_api_id'].map(team_id_map)"
   ]
  },
  {
   "cell_type": "code",
   "execution_count": 27,
   "metadata": {},
   "outputs": [
    {
     "output_type": "execute_result",
     "data": {
      "text/plain": "                          home_team_goal  away_team_goal\nleague_id                                               \nBelgium Jupiler League         57.446809       42.553191\nEngland Premier League         57.220874       42.779126\nFrance Ligue 1                 57.425609       42.574391\nGermany 1. Bundesliga          56.060819       43.939181\nItaly Serie A                  57.352755       42.647245\nNetherlands Eredivisie         57.769822       42.230178\nPoland Ekstraklasa             57.517182       42.482818\nPortugal Liga ZON Sagres       55.566237       44.433763\nScotland Premier League        54.267277       45.732723\nSpain LIGA BBVA                58.951498       41.048502\nSwitzerland Super League       56.769083       43.230917",
      "text/html": "<div>\n<style scoped>\n    .dataframe tbody tr th:only-of-type {\n        vertical-align: middle;\n    }\n\n    .dataframe tbody tr th {\n        vertical-align: top;\n    }\n\n    .dataframe thead th {\n        text-align: right;\n    }\n</style>\n<table border=\"1\" class=\"dataframe\">\n  <thead>\n    <tr style=\"text-align: right;\">\n      <th></th>\n      <th>home_team_goal</th>\n      <th>away_team_goal</th>\n    </tr>\n    <tr>\n      <th>league_id</th>\n      <th></th>\n      <th></th>\n    </tr>\n  </thead>\n  <tbody>\n    <tr>\n      <th>Belgium Jupiler League</th>\n      <td>57.446809</td>\n      <td>42.553191</td>\n    </tr>\n    <tr>\n      <th>England Premier League</th>\n      <td>57.220874</td>\n      <td>42.779126</td>\n    </tr>\n    <tr>\n      <th>France Ligue 1</th>\n      <td>57.425609</td>\n      <td>42.574391</td>\n    </tr>\n    <tr>\n      <th>Germany 1. Bundesliga</th>\n      <td>56.060819</td>\n      <td>43.939181</td>\n    </tr>\n    <tr>\n      <th>Italy Serie A</th>\n      <td>57.352755</td>\n      <td>42.647245</td>\n    </tr>\n    <tr>\n      <th>Netherlands Eredivisie</th>\n      <td>57.769822</td>\n      <td>42.230178</td>\n    </tr>\n    <tr>\n      <th>Poland Ekstraklasa</th>\n      <td>57.517182</td>\n      <td>42.482818</td>\n    </tr>\n    <tr>\n      <th>Portugal Liga ZON Sagres</th>\n      <td>55.566237</td>\n      <td>44.433763</td>\n    </tr>\n    <tr>\n      <th>Scotland Premier League</th>\n      <td>54.267277</td>\n      <td>45.732723</td>\n    </tr>\n    <tr>\n      <th>Spain LIGA BBVA</th>\n      <td>58.951498</td>\n      <td>41.048502</td>\n    </tr>\n    <tr>\n      <th>Switzerland Super League</th>\n      <td>56.769083</td>\n      <td>43.230917</td>\n    </tr>\n  </tbody>\n</table>\n</div>"
     },
     "metadata": {},
     "execution_count": 27
    }
   ],
   "source": [
    "# Goals avg per league\n",
    "avg_goals_league = matches[['league_id','home_team_goal','away_team_goal']].groupby('league_id').mean()\n",
    "\n",
    "\n",
    "total_goals = avg_goals_league.home_team_goal + avg_goals_league.away_team_goal\n",
    "\n",
    "avg_goals_league.home_team_goal = avg_goals_league.home_team_goal / total_goals * 100\n",
    "avg_goals_league.away_team_goal = avg_goals_league.away_team_goal / total_goals * 100\n",
    "\n",
    "avg_goals_league\n",
    "\n",
    "# Conclusion: home teams have advantage"
   ]
  },
  {
   "cell_type": "code",
   "execution_count": 28,
   "metadata": {},
   "outputs": [
    {
     "output_type": "execute_result",
     "data": {
      "text/plain": "[45.87166557604219, 25.389737865198814, 28.738596558759]"
     },
     "metadata": {},
     "execution_count": 28
    }
   ],
   "source": [
    "# Home win \n",
    "\n",
    "goals_per_match = matches[['home_team_goal','away_team_goal']]\n",
    "wins = 0\n",
    "draws = 0\n",
    "\n",
    "for index, row in goals_per_match.iterrows():\n",
    "    if row['home_team_goal'] > row['away_team_goal']:\n",
    "        wins += 1\n",
    "    if row['home_team_goal'] == row['away_team_goal']:\n",
    "        draws += 1\n",
    "        \n",
    "\n",
    "total_matches = len(goals_per_match)\n",
    "loss = total_matches - wins - draws\n",
    "\n",
    "percs = [wins/total_matches*100,draws/total_matches*100, loss/total_matches*100]\n",
    "percs\n",
    "\n",
    "#Conclusion : this confirms that \"home team wins about 46% of the time\""
   ]
  },
  {
   "cell_type": "code",
   "execution_count": 29,
   "metadata": {},
   "outputs": [
    {
     "output_type": "execute_result",
     "data": {
      "text/plain": "         id       date   home_team_api_id      away_team_api_id  \\\n0      8227 2010-01-30  Hertha BSC Berlin            VfL Bochum   \n1      8152 2009-11-22       Hamburger SV            VfL Bochum   \n4      8010 2008-08-30      FC Schalke 04            VfL Bochum   \n5      8195 2009-12-19        Hannover 96            VfL Bochum   \n6      8029 2009-05-09  Hertha BSC Berlin            VfL Bochum   \n...     ...        ...                ...                   ...   \n6536  14312 2012-02-11   Roda JC Kerkrade                N.E.C.   \n6537  20738 2012-08-19      Dundee United             Dundee FC   \n6538  20577 2011-08-20      Dundee United  Dunfermline Athletic   \n6539  17958 2010-02-07         Rio Ave FC            Leixões SC   \n6541  13857 2009-09-13   Sparta Rotterdam          RKC Waalwijk   \n\n      home_team_goal  away_team_goal game_status  overall_rating_home  \\\n0                  0               0           0                746.0   \n1                  0               1          -1                772.0   \n4                  1               0           1                733.0   \n5                  2               3          -1                809.0   \n6                  2               0           1                763.0   \n...              ...             ...         ...                  ...   \n6536               1               0           1                764.0   \n6537               3               0           1                772.0   \n6538               0               1          -1                755.0   \n6539               2               0           1                752.0   \n6541               1               0           1                737.0   \n\n      overall_rating_away  overall_rating_difference  \\\n0                   783.0                      -37.0   \n1                   790.0                      -18.0   \n4                   770.0                      -37.0   \n5                   778.0                       31.0   \n6                   791.0                      -28.0   \n...                   ...                        ...   \n6536                772.0                       -8.0   \n6537                780.0                       -8.0   \n6538                720.0                       35.0   \n6539                779.0                      -27.0   \n6541                736.0                        1.0   \n\n      mean_overall_rating_home  mean_overall_rating_away  \n0                    67.818182                 71.181818  \n1                    70.181818                 71.818182  \n4                    66.636364                 70.000000  \n5                    73.545455                 70.727273  \n6                    69.363636                 71.909091  \n...                        ...                       ...  \n6536                 69.454545                 70.181818  \n6537                 70.181818                 70.909091  \n6538                 68.636364                 65.454545  \n6539                 68.363636                 70.818182  \n6541                 67.000000                 66.909091  \n\n[5828 rows x 12 columns]",
      "text/html": "<div>\n<style scoped>\n    .dataframe tbody tr th:only-of-type {\n        vertical-align: middle;\n    }\n\n    .dataframe tbody tr th {\n        vertical-align: top;\n    }\n\n    .dataframe thead th {\n        text-align: right;\n    }\n</style>\n<table border=\"1\" class=\"dataframe\">\n  <thead>\n    <tr style=\"text-align: right;\">\n      <th></th>\n      <th>id</th>\n      <th>date</th>\n      <th>home_team_api_id</th>\n      <th>away_team_api_id</th>\n      <th>home_team_goal</th>\n      <th>away_team_goal</th>\n      <th>game_status</th>\n      <th>overall_rating_home</th>\n      <th>overall_rating_away</th>\n      <th>overall_rating_difference</th>\n      <th>mean_overall_rating_home</th>\n      <th>mean_overall_rating_away</th>\n    </tr>\n  </thead>\n  <tbody>\n    <tr>\n      <th>0</th>\n      <td>8227</td>\n      <td>2010-01-30</td>\n      <td>Hertha BSC Berlin</td>\n      <td>VfL Bochum</td>\n      <td>0</td>\n      <td>0</td>\n      <td>0</td>\n      <td>746.0</td>\n      <td>783.0</td>\n      <td>-37.0</td>\n      <td>67.818182</td>\n      <td>71.181818</td>\n    </tr>\n    <tr>\n      <th>1</th>\n      <td>8152</td>\n      <td>2009-11-22</td>\n      <td>Hamburger SV</td>\n      <td>VfL Bochum</td>\n      <td>0</td>\n      <td>1</td>\n      <td>-1</td>\n      <td>772.0</td>\n      <td>790.0</td>\n      <td>-18.0</td>\n      <td>70.181818</td>\n      <td>71.818182</td>\n    </tr>\n    <tr>\n      <th>4</th>\n      <td>8010</td>\n      <td>2008-08-30</td>\n      <td>FC Schalke 04</td>\n      <td>VfL Bochum</td>\n      <td>1</td>\n      <td>0</td>\n      <td>1</td>\n      <td>733.0</td>\n      <td>770.0</td>\n      <td>-37.0</td>\n      <td>66.636364</td>\n      <td>70.000000</td>\n    </tr>\n    <tr>\n      <th>5</th>\n      <td>8195</td>\n      <td>2009-12-19</td>\n      <td>Hannover 96</td>\n      <td>VfL Bochum</td>\n      <td>2</td>\n      <td>3</td>\n      <td>-1</td>\n      <td>809.0</td>\n      <td>778.0</td>\n      <td>31.0</td>\n      <td>73.545455</td>\n      <td>70.727273</td>\n    </tr>\n    <tr>\n      <th>6</th>\n      <td>8029</td>\n      <td>2009-05-09</td>\n      <td>Hertha BSC Berlin</td>\n      <td>VfL Bochum</td>\n      <td>2</td>\n      <td>0</td>\n      <td>1</td>\n      <td>763.0</td>\n      <td>791.0</td>\n      <td>-28.0</td>\n      <td>69.363636</td>\n      <td>71.909091</td>\n    </tr>\n    <tr>\n      <th>...</th>\n      <td>...</td>\n      <td>...</td>\n      <td>...</td>\n      <td>...</td>\n      <td>...</td>\n      <td>...</td>\n      <td>...</td>\n      <td>...</td>\n      <td>...</td>\n      <td>...</td>\n      <td>...</td>\n      <td>...</td>\n    </tr>\n    <tr>\n      <th>6536</th>\n      <td>14312</td>\n      <td>2012-02-11</td>\n      <td>Roda JC Kerkrade</td>\n      <td>N.E.C.</td>\n      <td>1</td>\n      <td>0</td>\n      <td>1</td>\n      <td>764.0</td>\n      <td>772.0</td>\n      <td>-8.0</td>\n      <td>69.454545</td>\n      <td>70.181818</td>\n    </tr>\n    <tr>\n      <th>6537</th>\n      <td>20738</td>\n      <td>2012-08-19</td>\n      <td>Dundee United</td>\n      <td>Dundee FC</td>\n      <td>3</td>\n      <td>0</td>\n      <td>1</td>\n      <td>772.0</td>\n      <td>780.0</td>\n      <td>-8.0</td>\n      <td>70.181818</td>\n      <td>70.909091</td>\n    </tr>\n    <tr>\n      <th>6538</th>\n      <td>20577</td>\n      <td>2011-08-20</td>\n      <td>Dundee United</td>\n      <td>Dunfermline Athletic</td>\n      <td>0</td>\n      <td>1</td>\n      <td>-1</td>\n      <td>755.0</td>\n      <td>720.0</td>\n      <td>35.0</td>\n      <td>68.636364</td>\n      <td>65.454545</td>\n    </tr>\n    <tr>\n      <th>6539</th>\n      <td>17958</td>\n      <td>2010-02-07</td>\n      <td>Rio Ave FC</td>\n      <td>Leixões SC</td>\n      <td>2</td>\n      <td>0</td>\n      <td>1</td>\n      <td>752.0</td>\n      <td>779.0</td>\n      <td>-27.0</td>\n      <td>68.363636</td>\n      <td>70.818182</td>\n    </tr>\n    <tr>\n      <th>6541</th>\n      <td>13857</td>\n      <td>2009-09-13</td>\n      <td>Sparta Rotterdam</td>\n      <td>RKC Waalwijk</td>\n      <td>1</td>\n      <td>0</td>\n      <td>1</td>\n      <td>737.0</td>\n      <td>736.0</td>\n      <td>1.0</td>\n      <td>67.000000</td>\n      <td>66.909091</td>\n    </tr>\n  </tbody>\n</table>\n<p>5828 rows × 12 columns</p>\n</div>"
     },
     "metadata": {},
     "execution_count": 29
    }
   ],
   "source": [
    "#Cleaning matches\n",
    "matches_df = pd.read_sql(\"\"\"SELECT * from MATCH\"\"\", con)\n",
    "teams_df = pd.read_sql(\"\"\"SELECT * from TEAM\"\"\", con)\n",
    "player_attributes_df = pd.read_sql(\"\"\"SELECT * from PLAYER_ATTRIBUTES\"\"\", con)\n",
    "\n",
    "matches_df['date'] = pd.to_datetime(matches_df['date'], format='%Y-%m-%d')\n",
    "\n",
    "home_players = [\"home_player_\" + str(x) for x in range(1, 12)]\n",
    "away_players = [\"away_player_\" + str(x) for x in range(1, 12)]\n",
    "\n",
    "matches_kept_columns = [\"id\", \"date\", \"home_team_api_id\", \"away_team_api_id\", \"home_team_goal\", \"away_team_goal\"]\n",
    "matches_kept_columns = matches_kept_columns + home_players\n",
    "matches_kept_columns = matches_kept_columns + away_players\n",
    "\n",
    "matches_df = matches_df[matches_kept_columns]\n",
    "\n",
    "matches_df['game_status'] = 0\n",
    "matches_df['game_status'] = np.where(matches_df['home_team_goal'] > matches_df['away_team_goal'] , '1', matches_df['game_status'])\n",
    "matches_df['game_status'] = np.where(matches_df['home_team_goal'] < matches_df['away_team_goal'], '-1', matches_df['game_status'])\n",
    "\n",
    "for player in home_players:\n",
    "    matches_df = pd.merge(matches_df, player_attributes_df[[\"id\", \"overall_rating\"]], left_on=[player], right_on=[\"id\"], suffixes=[\"\", \"_\" + player])\n",
    "for player in away_players:\n",
    "    matches_df = pd.merge(matches_df, player_attributes_df[[\"id\", \"overall_rating\"]], left_on=[player], right_on=[\"id\"], suffixes=[\"\", \"_\" + player])\n",
    "    \n",
    "matches_df = matches_df.rename(columns={\"overall_rating\": \"overall_rating_home_player_1\"})\n",
    "\n",
    "matches_df = matches_df[ matches_df[['overall_rating_' + p for p in home_players]].isnull().sum(axis = 1) <= 0]\n",
    "matches_df = matches_df[ matches_df[['overall_rating_' + p for p in away_players]].isnull().sum(axis = 1) <= 0]\n",
    "\n",
    "matches_df['overall_rating_home'] = matches_df[['overall_rating_' + p for p in home_players]].sum(axis=1)\n",
    "matches_df['overall_rating_away'] = matches_df[['overall_rating_' + p for p in away_players]].sum(axis=1)\n",
    "matches_df['overall_rating_difference'] = matches_df['overall_rating_home'] - matches_df['overall_rating_away']\n",
    "\n",
    "matches_df['mean_overall_rating_home'] = matches_df[['overall_rating_' + p for p in home_players]].mean(axis=1)\n",
    "matches_df['mean_overall_rating_away'] = matches_df[['overall_rating_' + p for p in away_players]].mean(axis=1)\n",
    "\n",
    "for c in matches_df.columns:\n",
    "    if '_player_' in c:\n",
    "        matches_df = matches_df.drop(c, axis=1)\n",
    "        \n",
    "#Replace team_id for its name.\n",
    "team_id_map = teams_df.set_index('team_api_id').to_dict()['team_long_name']\n",
    "matches_df['home_team_api_id'] = matches_df['home_team_api_id'].map(team_id_map)\n",
    "matches_df['away_team_api_id'] = matches_df['away_team_api_id'].map(team_id_map)\n",
    "matches_df\n"
   ]
  },
  {
   "cell_type": "code",
   "execution_count": 30,
   "metadata": {},
   "outputs": [
    {
     "output_type": "execute_result",
     "data": {
      "text/plain": "       IWD   IWA   LBH   LBD   LBA   PSH   PSD   PSA   WHH   WHD   WHA   SJH  \\\n0      3.2  3.50  1.80  3.30  3.75   NaN   NaN   NaN  1.70  3.30  4.33  1.90   \n1      3.2  3.50  1.90  3.20  3.50   NaN   NaN   NaN  1.83  3.30  3.60  1.95   \n2      3.1  2.30  2.50  3.20  2.50   NaN   NaN   NaN  2.50  3.25  2.40  2.63   \n3      3.9  6.00  1.44  3.60  6.50   NaN   NaN   NaN  1.44  3.75  6.00  1.44   \n4      3.3  1.70  4.00  3.40  1.72   NaN   NaN   NaN  4.20  3.40  1.70  4.50   \n...    ...   ...   ...   ...   ...   ...   ...   ...   ...   ...   ...   ...   \n22515  3.7  4.90  1.57  3.75  6.50  1.58  4.05  7.06  1.62  3.30  7.00   NaN   \n22516  3.2  3.20  2.25  3.20  3.25  2.36  3.36  3.36  2.38  3.10  3.10   NaN   \n22517  3.7  5.40  1.50  4.00  6.50  1.55  4.31  6.95  1.57  3.50  7.00   NaN   \n22518  3.3  2.75  2.30  3.20  3.10  2.34  3.40  3.35  2.40  3.10  3.10   NaN   \n22519  3.3  2.90  2.10  3.40  3.30  2.20  3.61  3.46  2.20  3.40  3.20   NaN   \n\n       SJD   SJA   VCH   VCD   VCA   GBH   GBD   GBA   BSH   BSD   BSA  \n0      3.3  4.00  1.65  3.40  4.50  1.78  3.25  4.00  1.73  3.40  4.20  \n1      3.3  3.80  2.00  3.25  3.25  1.85  3.25  3.75  1.91  3.25  3.60  \n2      3.3  2.50  2.35  3.25  2.65  2.50  3.20  2.50  2.30  3.20  2.75  \n3      4.0  7.50  1.45  3.75  6.50  1.50  3.75  5.50  1.44  3.75  6.50  \n4      3.5  1.73  4.50  3.40  1.65  4.50  3.50  1.65  4.75  3.30  1.67  \n...    ...   ...   ...   ...   ...   ...   ...   ...   ...   ...   ...  \n22515  NaN   NaN  1.57  4.00  7.00   NaN   NaN   NaN   NaN   NaN   NaN  \n22516  NaN   NaN  2.30  3.40  3.40   NaN   NaN   NaN   NaN   NaN   NaN  \n22517  NaN   NaN  1.55  4.20  7.00   NaN   NaN   NaN   NaN   NaN   NaN  \n22518  NaN   NaN  2.30  3.40  3.30   NaN   NaN   NaN   NaN   NaN   NaN  \n22519  NaN   NaN  2.20  3.60  3.50   NaN   NaN   NaN   NaN   NaN   NaN  \n\n[22520 rows x 23 columns]",
      "text/html": "<div>\n<style scoped>\n    .dataframe tbody tr th:only-of-type {\n        vertical-align: middle;\n    }\n\n    .dataframe tbody tr th {\n        vertical-align: top;\n    }\n\n    .dataframe thead th {\n        text-align: right;\n    }\n</style>\n<table border=\"1\" class=\"dataframe\">\n  <thead>\n    <tr style=\"text-align: right;\">\n      <th></th>\n      <th>IWD</th>\n      <th>IWA</th>\n      <th>LBH</th>\n      <th>LBD</th>\n      <th>LBA</th>\n      <th>PSH</th>\n      <th>PSD</th>\n      <th>PSA</th>\n      <th>WHH</th>\n      <th>WHD</th>\n      <th>WHA</th>\n      <th>SJH</th>\n      <th>SJD</th>\n      <th>SJA</th>\n      <th>VCH</th>\n      <th>VCD</th>\n      <th>VCA</th>\n      <th>GBH</th>\n      <th>GBD</th>\n      <th>GBA</th>\n      <th>BSH</th>\n      <th>BSD</th>\n      <th>BSA</th>\n    </tr>\n  </thead>\n  <tbody>\n    <tr>\n      <th>0</th>\n      <td>3.2</td>\n      <td>3.50</td>\n      <td>1.80</td>\n      <td>3.30</td>\n      <td>3.75</td>\n      <td>NaN</td>\n      <td>NaN</td>\n      <td>NaN</td>\n      <td>1.70</td>\n      <td>3.30</td>\n      <td>4.33</td>\n      <td>1.90</td>\n      <td>3.3</td>\n      <td>4.00</td>\n      <td>1.65</td>\n      <td>3.40</td>\n      <td>4.50</td>\n      <td>1.78</td>\n      <td>3.25</td>\n      <td>4.00</td>\n      <td>1.73</td>\n      <td>3.40</td>\n      <td>4.20</td>\n    </tr>\n    <tr>\n      <th>1</th>\n      <td>3.2</td>\n      <td>3.50</td>\n      <td>1.90</td>\n      <td>3.20</td>\n      <td>3.50</td>\n      <td>NaN</td>\n      <td>NaN</td>\n      <td>NaN</td>\n      <td>1.83</td>\n      <td>3.30</td>\n      <td>3.60</td>\n      <td>1.95</td>\n      <td>3.3</td>\n      <td>3.80</td>\n      <td>2.00</td>\n      <td>3.25</td>\n      <td>3.25</td>\n      <td>1.85</td>\n      <td>3.25</td>\n      <td>3.75</td>\n      <td>1.91</td>\n      <td>3.25</td>\n      <td>3.60</td>\n    </tr>\n    <tr>\n      <th>2</th>\n      <td>3.1</td>\n      <td>2.30</td>\n      <td>2.50</td>\n      <td>3.20</td>\n      <td>2.50</td>\n      <td>NaN</td>\n      <td>NaN</td>\n      <td>NaN</td>\n      <td>2.50</td>\n      <td>3.25</td>\n      <td>2.40</td>\n      <td>2.63</td>\n      <td>3.3</td>\n      <td>2.50</td>\n      <td>2.35</td>\n      <td>3.25</td>\n      <td>2.65</td>\n      <td>2.50</td>\n      <td>3.20</td>\n      <td>2.50</td>\n      <td>2.30</td>\n      <td>3.20</td>\n      <td>2.75</td>\n    </tr>\n    <tr>\n      <th>3</th>\n      <td>3.9</td>\n      <td>6.00</td>\n      <td>1.44</td>\n      <td>3.60</td>\n      <td>6.50</td>\n      <td>NaN</td>\n      <td>NaN</td>\n      <td>NaN</td>\n      <td>1.44</td>\n      <td>3.75</td>\n      <td>6.00</td>\n      <td>1.44</td>\n      <td>4.0</td>\n      <td>7.50</td>\n      <td>1.45</td>\n      <td>3.75</td>\n      <td>6.50</td>\n      <td>1.50</td>\n      <td>3.75</td>\n      <td>5.50</td>\n      <td>1.44</td>\n      <td>3.75</td>\n      <td>6.50</td>\n    </tr>\n    <tr>\n      <th>4</th>\n      <td>3.3</td>\n      <td>1.70</td>\n      <td>4.00</td>\n      <td>3.40</td>\n      <td>1.72</td>\n      <td>NaN</td>\n      <td>NaN</td>\n      <td>NaN</td>\n      <td>4.20</td>\n      <td>3.40</td>\n      <td>1.70</td>\n      <td>4.50</td>\n      <td>3.5</td>\n      <td>1.73</td>\n      <td>4.50</td>\n      <td>3.40</td>\n      <td>1.65</td>\n      <td>4.50</td>\n      <td>3.50</td>\n      <td>1.65</td>\n      <td>4.75</td>\n      <td>3.30</td>\n      <td>1.67</td>\n    </tr>\n    <tr>\n      <th>...</th>\n      <td>...</td>\n      <td>...</td>\n      <td>...</td>\n      <td>...</td>\n      <td>...</td>\n      <td>...</td>\n      <td>...</td>\n      <td>...</td>\n      <td>...</td>\n      <td>...</td>\n      <td>...</td>\n      <td>...</td>\n      <td>...</td>\n      <td>...</td>\n      <td>...</td>\n      <td>...</td>\n      <td>...</td>\n      <td>...</td>\n      <td>...</td>\n      <td>...</td>\n      <td>...</td>\n      <td>...</td>\n      <td>...</td>\n    </tr>\n    <tr>\n      <th>22515</th>\n      <td>3.7</td>\n      <td>4.90</td>\n      <td>1.57</td>\n      <td>3.75</td>\n      <td>6.50</td>\n      <td>1.58</td>\n      <td>4.05</td>\n      <td>7.06</td>\n      <td>1.62</td>\n      <td>3.30</td>\n      <td>7.00</td>\n      <td>NaN</td>\n      <td>NaN</td>\n      <td>NaN</td>\n      <td>1.57</td>\n      <td>4.00</td>\n      <td>7.00</td>\n      <td>NaN</td>\n      <td>NaN</td>\n      <td>NaN</td>\n      <td>NaN</td>\n      <td>NaN</td>\n      <td>NaN</td>\n    </tr>\n    <tr>\n      <th>22516</th>\n      <td>3.2</td>\n      <td>3.20</td>\n      <td>2.25</td>\n      <td>3.20</td>\n      <td>3.25</td>\n      <td>2.36</td>\n      <td>3.36</td>\n      <td>3.36</td>\n      <td>2.38</td>\n      <td>3.10</td>\n      <td>3.10</td>\n      <td>NaN</td>\n      <td>NaN</td>\n      <td>NaN</td>\n      <td>2.30</td>\n      <td>3.40</td>\n      <td>3.40</td>\n      <td>NaN</td>\n      <td>NaN</td>\n      <td>NaN</td>\n      <td>NaN</td>\n      <td>NaN</td>\n      <td>NaN</td>\n    </tr>\n    <tr>\n      <th>22517</th>\n      <td>3.7</td>\n      <td>5.40</td>\n      <td>1.50</td>\n      <td>4.00</td>\n      <td>6.50</td>\n      <td>1.55</td>\n      <td>4.31</td>\n      <td>6.95</td>\n      <td>1.57</td>\n      <td>3.50</td>\n      <td>7.00</td>\n      <td>NaN</td>\n      <td>NaN</td>\n      <td>NaN</td>\n      <td>1.55</td>\n      <td>4.20</td>\n      <td>7.00</td>\n      <td>NaN</td>\n      <td>NaN</td>\n      <td>NaN</td>\n      <td>NaN</td>\n      <td>NaN</td>\n      <td>NaN</td>\n    </tr>\n    <tr>\n      <th>22518</th>\n      <td>3.3</td>\n      <td>2.75</td>\n      <td>2.30</td>\n      <td>3.20</td>\n      <td>3.10</td>\n      <td>2.34</td>\n      <td>3.40</td>\n      <td>3.35</td>\n      <td>2.40</td>\n      <td>3.10</td>\n      <td>3.10</td>\n      <td>NaN</td>\n      <td>NaN</td>\n      <td>NaN</td>\n      <td>2.30</td>\n      <td>3.40</td>\n      <td>3.30</td>\n      <td>NaN</td>\n      <td>NaN</td>\n      <td>NaN</td>\n      <td>NaN</td>\n      <td>NaN</td>\n      <td>NaN</td>\n    </tr>\n    <tr>\n      <th>22519</th>\n      <td>3.3</td>\n      <td>2.90</td>\n      <td>2.10</td>\n      <td>3.40</td>\n      <td>3.30</td>\n      <td>2.20</td>\n      <td>3.61</td>\n      <td>3.46</td>\n      <td>2.20</td>\n      <td>3.40</td>\n      <td>3.20</td>\n      <td>NaN</td>\n      <td>NaN</td>\n      <td>NaN</td>\n      <td>2.20</td>\n      <td>3.60</td>\n      <td>3.50</td>\n      <td>NaN</td>\n      <td>NaN</td>\n      <td>NaN</td>\n      <td>NaN</td>\n      <td>NaN</td>\n      <td>NaN</td>\n    </tr>\n  </tbody>\n</table>\n<p>22520 rows × 23 columns</p>\n</div>"
     },
     "metadata": {},
     "execution_count": 30
    }
   ],
   "source": [
    "pd.read_sql(\"\"\"SELECT IWD, IWA, LBH, LBD, LBA, PSH, PSD, PSA,\n",
    "WHH,\n",
    "WHD,\n",
    "WHA,\n",
    "SJH,\n",
    "SJD,\n",
    "SJA,\n",
    "VCH,\n",
    "VCD,\n",
    "VCA,\n",
    "GBH,\n",
    "GBD,\n",
    "GBA,\n",
    "BSH,\n",
    "BSD,\n",
    "BSA from MATCH WHERE NOT IWD='NaN'\"\"\", con)"
   ]
  },
  {
   "cell_type": "code",
   "execution_count": 58,
   "metadata": {},
   "outputs": [
    {
     "output_type": "execute_result",
     "data": {
      "text/plain": "      home_team_api_id       date  home_team_goal  away_team_goal\n1166             10000 2013-03-09               1               2\n1150             10000 2013-02-16               2               0\n1128             10000 2013-01-26               2               0\n1112             10000 2012-12-26               2               1\n1095             10000 2012-12-16               3               2",
      "text/html": "<div>\n<style scoped>\n    .dataframe tbody tr th:only-of-type {\n        vertical-align: middle;\n    }\n\n    .dataframe tbody tr th {\n        vertical-align: top;\n    }\n\n    .dataframe thead th {\n        text-align: right;\n    }\n</style>\n<table border=\"1\" class=\"dataframe\">\n  <thead>\n    <tr style=\"text-align: right;\">\n      <th></th>\n      <th>home_team_api_id</th>\n      <th>date</th>\n      <th>home_team_goal</th>\n      <th>away_team_goal</th>\n    </tr>\n  </thead>\n  <tbody>\n    <tr>\n      <th>1166</th>\n      <td>10000</td>\n      <td>2013-03-09</td>\n      <td>1</td>\n      <td>2</td>\n    </tr>\n    <tr>\n      <th>1150</th>\n      <td>10000</td>\n      <td>2013-02-16</td>\n      <td>2</td>\n      <td>0</td>\n    </tr>\n    <tr>\n      <th>1128</th>\n      <td>10000</td>\n      <td>2013-01-26</td>\n      <td>2</td>\n      <td>0</td>\n    </tr>\n    <tr>\n      <th>1112</th>\n      <td>10000</td>\n      <td>2012-12-26</td>\n      <td>2</td>\n      <td>1</td>\n    </tr>\n    <tr>\n      <th>1095</th>\n      <td>10000</td>\n      <td>2012-12-16</td>\n      <td>3</td>\n      <td>2</td>\n    </tr>\n  </tbody>\n</table>\n</div>"
     },
     "metadata": {},
     "execution_count": 58
    }
   ],
   "source": [
    "#trying to get history,last 5 games**********\n",
    "\n",
    "match_t = pd.read_sql_query(\"select home_team_api_id, date, home_team_goal, away_team_goal from Match\",con)\n",
    "#match_t['date'] = pd.to_datetime(matches_df['date'], format='%Y-%m-%d')\n",
    "match_t['date'] = pd.to_datetime(match_t['date']) \n",
    "mat = match_t[(match_t['date'] < '2014-6-1')]\n",
    "mat = mat[mat['home_team_api_id'] == 10000]\n",
    "mat.sort_values(by=['date'], inplace=True, ascending=False) \n",
    "mat.head(5)\n"
   ]
  },
  {
   "cell_type": "code",
   "execution_count": null,
   "metadata": {},
   "outputs": [],
   "source": []
  }
 ],
 "metadata": {
  "kernelspec": {
   "display_name": "Python 3",
   "language": "python",
   "name": "python3"
  },
  "language_info": {
   "codemirror_mode": {
    "name": "ipython",
    "version": 3
   },
   "file_extension": ".py",
   "mimetype": "text/x-python",
   "name": "python",
   "nbconvert_exporter": "python",
   "pygments_lexer": "ipython3",
   "version": "3.7.5-final"
  }
 },
 "nbformat": 4,
 "nbformat_minor": 4
}